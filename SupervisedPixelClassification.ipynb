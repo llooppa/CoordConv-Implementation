{
 "cells": [
  {
   "cell_type": "markdown",
   "metadata": {},
   "source": [
    "# Supervised Coordinate Classification\n",
    "In this notebook we compare performance of Convolutional Layers with CoordConv Layers, introduced in paper - [An intriguing failing of convolutional neural networks and the CoordConv solution](https://arxiv.org/pdf/1807.03247.pdf).\n",
    "\n",
    "## Problem Statement\n",
    "Compare classification performance of Convolution layer with CoordConv layer on the *NotSoClever* dataset introduced in the paper.\n",
    "\n",
    "### Not So Clever Dataset\n",
    "Not-so-Clevr consists of 9×9 squares placed on a 64×64 canvas. Square positions are restricted such that the entire square lies within the 64×64 grid, so that square centers fall within a slightly smaller possible area of 56×56. Enumerating these\n",
    "possible center positions results in a dataset with a total of 3,136 examples. For each example square i, the dataset contains three fields:\n",
    "\n",
    "* $C_{i} \\in \\mathbb{R}^2$, its center location in (x,y) Cartesian coordinates,\n",
    "* $P_{i} \\in \\mathbb{R}^{64 \\times 64}$, a one-hot representation of its center pixel, and\n",
    "* $I_{i} \\in \\mathbb{R}^{64 \\times 64}$, the resulting 64×64 image of the square painted on the canvas.\n",
    "\n",
    "### Train/Test Split\n",
    "We will go for the classification problem and will work with two kind of train/test split:\n",
    "\n",
    "* Quadrant Split\n",
    "* Uniform Split\n",
    "\n",
    "![NotSoClever Dataset](./images/notsoclever_ds.png)\n",
    "\n",
    "## CoordConv Layer\n",
    "CoordConv is an extension to Convoluton layers just to give the neural network extra understanding of the coordinates of the pixels. The layer keeps two properties of Convolution layer intact:\n",
    "* few parameters\n",
    "* efficient computation\n",
    "\n",
    "But it gives a degree of freedom to network in case of *translation invariance*. It lets the network to decide whether it needs the said property or not.\n",
    "\n",
    "|![CoordConv Vs Conv](./images/coordconv_vs_conv.png)|\n",
    "|:--------------------------------------------------:|\n",
    "|Source: https://arxiv.org/pdf/1807.03247 |"
   ]
  },
  {
   "cell_type": "markdown",
   "metadata": {},
   "source": [
    "Run the following cell to make sure our working directory is ready to save the models we train."
   ]
  },
  {
   "cell_type": "code",
   "execution_count": 1,
   "metadata": {},
   "outputs": [],
   "source": [
    "import os\n",
    "\n",
    "if not os.path.isdir('./pixel_classification'):\n",
    "    os.makedirs('./pixel_classification')"
   ]
  },
  {
   "cell_type": "markdown",
   "metadata": {},
   "source": [
    "## Deconvolution over NotSoClever - Quadrant Split\n",
    "|![Deconvolution Architecture for NotSoClever](./images/deconv_arch_clf.png)|\n",
    "|:-------------------------------:|\n",
    "| Source: https://arxiv.org/pdf/1807.03247 |\n",
    "\n",
    "* fs = {2, 3, 4}\n",
    "* c = {1, 2, 3}"
   ]
  },
  {
   "cell_type": "code",
   "execution_count": 1,
   "metadata": {},
   "outputs": [],
   "source": [
    "import tensorflow as tf\n",
    "\n",
    "from utils.nsc import NotSoCleverCreator as NSCCreator\n",
    "from models.supervised_conv import model_fn as conv_model_fn\n",
    "from nn.pipeline import classifier_input_fn"
   ]
  },
  {
   "cell_type": "code",
   "execution_count": 2,
   "metadata": {},
   "outputs": [
    {
     "data": {
      "text/plain": [
       "((2408, 2), (841, 2), (2408, 64, 64, 1), (841, 64, 64, 1))"
      ]
     },
     "execution_count": 2,
     "metadata": {},
     "output_type": "execute_result"
    }
   ],
   "source": [
    "nsc = NSCCreator()\n",
    "\n",
    "X_train, X_test = nsc.quadrant_split()\n",
    "Y_train = nsc.one_hot_coords(nsc.canvas_size, X_train)\n",
    "Y_test = nsc.one_hot_coords(nsc.canvas_size, X_test)\n",
    "\n",
    "X_train.shape, X_test.shape, Y_train.shape, Y_test.shape"
   ]
  },
  {
   "cell_type": "code",
   "execution_count": 3,
   "metadata": {},
   "outputs": [
    {
     "name": "stdout",
     "output_type": "stream",
     "text": [
      "INFO:tensorflow:Using default config.\n",
      "INFO:tensorflow:Using config: {'_save_checkpoints_secs': 600, '_task_type': 'worker', '_global_id_in_cluster': 0, '_num_ps_replicas': 0, '_train_distribute': None, '_tf_random_seed': None, '_task_id': 0, '_keep_checkpoint_every_n_hours': 10000, '_cluster_spec': <tensorflow.python.training.server_lib.ClusterSpec object at 0x0000022C49C02FD0>, '_session_config': None, '_evaluation_master': '', '_keep_checkpoint_max': 5, '_save_summary_steps': 100, '_is_chief': True, '_num_worker_replicas': 1, '_log_step_count_steps': 100, '_save_checkpoints_steps': None, '_master': '', '_service': None, '_model_dir': './pixel_classification/supervised_quad_conv'}\n"
     ]
    }
   ],
   "source": [
    "estimator = tf.estimator.Estimator(model_fn=conv_model_fn,\n",
    "                                   params={\n",
    "                                       'lr': 1e-3,\n",
    "                                       'c': 1\n",
    "                                   },\n",
    "                                   model_dir='./pixel_classification/supervised_quad_conv')"
   ]
  },
  {
   "cell_type": "code",
   "execution_count": 4,
   "metadata": {},
   "outputs": [],
   "source": [
    "train_in_fn = lambda: classifier_input_fn(X_train, Y_train, 32)\n",
    "test_in_fn = lambda: classifier_input_fn(X_test, Y_test, 32, is_train=False)"
   ]
  },
  {
   "cell_type": "code",
   "execution_count": 5,
   "metadata": {},
   "outputs": [
    {
     "data": {
      "text/plain": [
       "7500"
      ]
     },
     "execution_count": 5,
     "metadata": {},
     "output_type": "execute_result"
    }
   ],
   "source": [
    "EPOCHS = 100\n",
    "STEPS_PER_EPOCH = X_train.shape[0] // 32\n",
    "STEPS = EPOCHS * STEPS_PER_EPOCH\n",
    "\n",
    "STEPS"
   ]
  },
  {
   "cell_type": "code",
   "execution_count": 6,
   "metadata": {},
   "outputs": [
    {
     "name": "stdout",
     "output_type": "stream",
     "text": [
      "INFO:tensorflow:Calling model_fn.\n",
      "INFO:tensorflow:Done calling model_fn.\n",
      "INFO:tensorflow:Create CheckpointSaverHook.\n",
      "INFO:tensorflow:Graph was finalized.\n",
      "INFO:tensorflow:Running local_init_op.\n",
      "INFO:tensorflow:Done running local_init_op.\n",
      "INFO:tensorflow:Saving checkpoints for 1 into ./pixel_classification/supervised_quad_conv\\model.ckpt.\n",
      "INFO:tensorflow:step = 0, loss = 8.31728\n",
      "INFO:tensorflow:accuracy = 0.0\n",
      "INFO:tensorflow:global_step/sec: 24.6763\n",
      "INFO:tensorflow:step = 100, loss = 7.8248906 (4.068 sec)\n",
      "INFO:tensorflow:accuracy = 0.03125 (4.052 sec)\n",
      "INFO:tensorflow:global_step/sec: 35.8465\n",
      "INFO:tensorflow:step = 200, loss = 6.0391746 (2.774 sec)\n",
      "INFO:tensorflow:accuracy = 0.0 (2.774 sec)\n",
      "INFO:tensorflow:global_step/sec: 36.2574\n",
      "INFO:tensorflow:step = 300, loss = 5.714446 (2.758 sec)\n",
      "INFO:tensorflow:accuracy = 0.0 (2.758 sec)\n",
      "INFO:tensorflow:global_step/sec: 36.325\n",
      "INFO:tensorflow:step = 400, loss = 5.3855057 (2.769 sec)\n",
      "INFO:tensorflow:accuracy = 0.03125 (2.769 sec)\n",
      "INFO:tensorflow:global_step/sec: 30.7371\n",
      "INFO:tensorflow:step = 500, loss = 4.9857044 (3.238 sec)\n",
      "INFO:tensorflow:accuracy = 0.03125 (3.253 sec)\n",
      "INFO:tensorflow:global_step/sec: 32.9268\n",
      "INFO:tensorflow:step = 600, loss = 4.707853 (3.053 sec)\n",
      "INFO:tensorflow:accuracy = 0.0 (3.037 sec)\n",
      "INFO:tensorflow:global_step/sec: 34.5998\n",
      "INFO:tensorflow:step = 700, loss = 4.584573 (2.875 sec)\n",
      "INFO:tensorflow:accuracy = 0.0625 (2.875 sec)\n",
      "INFO:tensorflow:global_step/sec: 35.0599\n",
      "INFO:tensorflow:step = 800, loss = 4.212316 (2.852 sec)\n",
      "INFO:tensorflow:accuracy = 0.09375 (2.852 sec)\n",
      "INFO:tensorflow:global_step/sec: 36.7499\n",
      "INFO:tensorflow:step = 900, loss = 4.125618 (2.739 sec)\n",
      "INFO:tensorflow:accuracy = 0.03125 (2.741 sec)\n",
      "INFO:tensorflow:global_step/sec: 36.2651\n",
      "INFO:tensorflow:step = 1000, loss = 4.3024664 (2.739 sec)\n",
      "INFO:tensorflow:accuracy = 0.125 (2.738 sec)\n",
      "INFO:tensorflow:global_step/sec: 36.5411\n",
      "INFO:tensorflow:step = 1100, loss = 3.685677 (2.737 sec)\n",
      "INFO:tensorflow:accuracy = 0.09375 (2.737 sec)\n",
      "INFO:tensorflow:global_step/sec: 34.7843\n",
      "INFO:tensorflow:step = 1200, loss = 3.5035312 (2.875 sec)\n",
      "INFO:tensorflow:accuracy = 0.0625 (2.875 sec)\n",
      "INFO:tensorflow:global_step/sec: 32.9756\n",
      "INFO:tensorflow:step = 1300, loss = 3.5509086 (3.033 sec)\n",
      "INFO:tensorflow:accuracy = 0.03125 (3.033 sec)\n",
      "INFO:tensorflow:global_step/sec: 33.5511\n",
      "INFO:tensorflow:step = 1400, loss = 3.50277 (3.018 sec)\n",
      "INFO:tensorflow:accuracy = 0.1875 (3.018 sec)\n",
      "INFO:tensorflow:global_step/sec: 33.002\n",
      "INFO:tensorflow:step = 1500, loss = 3.388951 (2.995 sec)\n",
      "INFO:tensorflow:accuracy = 0.1875 (2.995 sec)\n",
      "INFO:tensorflow:global_step/sec: 33.8519\n",
      "INFO:tensorflow:step = 1600, loss = 2.9933553 (2.952 sec)\n",
      "INFO:tensorflow:accuracy = 0.15625 (2.952 sec)\n",
      "INFO:tensorflow:global_step/sec: 34.3949\n",
      "INFO:tensorflow:step = 1700, loss = 2.8799188 (2.907 sec)\n",
      "INFO:tensorflow:accuracy = 0.1875 (2.907 sec)\n",
      "INFO:tensorflow:global_step/sec: 32.1195\n",
      "INFO:tensorflow:step = 1800, loss = 3.0674002 (3.127 sec)\n",
      "INFO:tensorflow:accuracy = 0.25 (3.129 sec)\n",
      "INFO:tensorflow:global_step/sec: 28.7342\n",
      "INFO:tensorflow:step = 1900, loss = 2.9376388 (3.467 sec)\n",
      "INFO:tensorflow:accuracy = 0.15625 (3.465 sec)\n",
      "INFO:tensorflow:global_step/sec: 33.4236\n",
      "INFO:tensorflow:step = 2000, loss = 3.0797858 (2.992 sec)\n",
      "INFO:tensorflow:accuracy = 0.15625 (2.992 sec)\n",
      "INFO:tensorflow:global_step/sec: 25.1893\n",
      "INFO:tensorflow:step = 2100, loss = 2.715583 (3.970 sec)\n",
      "INFO:tensorflow:accuracy = 0.25 (3.970 sec)\n",
      "INFO:tensorflow:global_step/sec: 33.6022\n",
      "INFO:tensorflow:step = 2200, loss = 2.717711 (2.976 sec)\n",
      "INFO:tensorflow:accuracy = 0.21875 (2.976 sec)\n",
      "INFO:tensorflow:global_step/sec: 25.5777\n",
      "INFO:tensorflow:step = 2300, loss = 2.546414 (3.910 sec)\n",
      "INFO:tensorflow:accuracy = 0.15625 (3.910 sec)\n",
      "INFO:tensorflow:global_step/sec: 35.4443\n",
      "INFO:tensorflow:step = 2400, loss = 2.276029 (2.837 sec)\n",
      "INFO:tensorflow:accuracy = 0.34375 (2.853 sec)\n",
      "INFO:tensorflow:global_step/sec: 33.2692\n",
      "INFO:tensorflow:step = 2500, loss = 2.2318735 (2.990 sec)\n",
      "INFO:tensorflow:accuracy = 0.40625 (2.975 sec)\n",
      "INFO:tensorflow:global_step/sec: 35.6519\n",
      "INFO:tensorflow:step = 2600, loss = 2.719592 (2.805 sec)\n",
      "INFO:tensorflow:accuracy = 0.21875 (2.805 sec)\n",
      "INFO:tensorflow:global_step/sec: 35.442\n",
      "INFO:tensorflow:step = 2700, loss = 2.678397 (2.822 sec)\n",
      "INFO:tensorflow:accuracy = 0.21875 (2.822 sec)\n",
      "INFO:tensorflow:global_step/sec: 35.0537\n",
      "INFO:tensorflow:step = 2800, loss = 2.1772203 (2.853 sec)\n",
      "INFO:tensorflow:accuracy = 0.375 (2.853 sec)\n",
      "INFO:tensorflow:global_step/sec: 32.9991\n",
      "INFO:tensorflow:step = 2900, loss = 2.864821 (3.030 sec)\n",
      "INFO:tensorflow:accuracy = 0.15625 (3.030 sec)\n",
      "INFO:tensorflow:global_step/sec: 34.012\n",
      "INFO:tensorflow:step = 3000, loss = 1.9647993 (2.942 sec)\n",
      "INFO:tensorflow:accuracy = 0.5 (2.942 sec)\n",
      "INFO:tensorflow:global_step/sec: 31.9605\n",
      "INFO:tensorflow:step = 3100, loss = 1.8037267 (3.127 sec)\n",
      "INFO:tensorflow:accuracy = 0.46875 (3.142 sec)\n",
      "INFO:tensorflow:global_step/sec: 32.2089\n",
      "INFO:tensorflow:step = 3200, loss = 2.2262397 (3.105 sec)\n",
      "INFO:tensorflow:accuracy = 0.375 (3.089 sec)\n",
      "INFO:tensorflow:global_step/sec: 32.5662\n",
      "INFO:tensorflow:step = 3300, loss = 1.5760684 (3.071 sec)\n",
      "INFO:tensorflow:accuracy = 0.40625 (3.071 sec)\n",
      "INFO:tensorflow:global_step/sec: 33.8135\n",
      "INFO:tensorflow:step = 3400, loss = 1.7536482 (2.973 sec)\n",
      "INFO:tensorflow:accuracy = 0.375 (2.973 sec)\n",
      "INFO:tensorflow:global_step/sec: 35.8851\n",
      "INFO:tensorflow:step = 3500, loss = 2.4448197 (2.773 sec)\n",
      "INFO:tensorflow:accuracy = 0.375 (2.773 sec)\n",
      "INFO:tensorflow:global_step/sec: 36.5283\n",
      "INFO:tensorflow:step = 3600, loss = 1.7837081 (2.736 sec)\n",
      "INFO:tensorflow:accuracy = 0.375 (2.736 sec)\n",
      "INFO:tensorflow:global_step/sec: 34.7903\n",
      "INFO:tensorflow:step = 3700, loss = 1.5199461 (2.874 sec)\n",
      "INFO:tensorflow:accuracy = 0.46875 (2.874 sec)\n",
      "INFO:tensorflow:global_step/sec: 32.6839\n",
      "INFO:tensorflow:step = 3800, loss = 2.019197 (3.060 sec)\n",
      "INFO:tensorflow:accuracy = 0.34375 (3.060 sec)\n",
      "INFO:tensorflow:global_step/sec: 31.9777\n",
      "INFO:tensorflow:step = 3900, loss = 1.7378974 (3.133 sec)\n",
      "INFO:tensorflow:accuracy = 0.4375 (3.135 sec)\n",
      "INFO:tensorflow:global_step/sec: 30.0104\n",
      "INFO:tensorflow:step = 4000, loss = 1.6182808 (3.342 sec)\n",
      "INFO:tensorflow:accuracy = 0.40625 (3.340 sec)\n",
      "INFO:tensorflow:global_step/sec: 31.8753\n",
      "INFO:tensorflow:step = 4100, loss = 1.477554 (3.122 sec)\n",
      "INFO:tensorflow:accuracy = 0.46875 (3.122 sec)\n",
      "INFO:tensorflow:global_step/sec: 34.7817\n",
      "INFO:tensorflow:step = 4200, loss = 1.6231147 (2.875 sec)\n",
      "INFO:tensorflow:accuracy = 0.3125 (2.875 sec)\n",
      "INFO:tensorflow:global_step/sec: 35.464\n",
      "INFO:tensorflow:step = 4300, loss = 1.290937 (2.820 sec)\n",
      "INFO:tensorflow:accuracy = 0.53125 (2.820 sec)\n",
      "INFO:tensorflow:global_step/sec: 33.8239\n",
      "INFO:tensorflow:step = 4400, loss = 1.3792605 (2.972 sec)\n",
      "INFO:tensorflow:accuracy = 0.53125 (2.972 sec)\n",
      "INFO:tensorflow:global_step/sec: 34.2251\n",
      "INFO:tensorflow:step = 4500, loss = 1.3789632 (2.906 sec)\n",
      "INFO:tensorflow:accuracy = 0.4375 (2.922 sec)\n",
      "INFO:tensorflow:global_step/sec: 30.519\n",
      "INFO:tensorflow:step = 4600, loss = 1.4724798 (3.292 sec)\n",
      "INFO:tensorflow:accuracy = 0.46875 (3.277 sec)\n",
      "INFO:tensorflow:global_step/sec: 32.5148\n",
      "INFO:tensorflow:step = 4700, loss = 1.5089018 (3.076 sec)\n",
      "INFO:tensorflow:accuracy = 0.53125 (3.076 sec)\n",
      "INFO:tensorflow:global_step/sec: 33.3346\n",
      "INFO:tensorflow:step = 4800, loss = 1.4090339 (2.990 sec)\n",
      "INFO:tensorflow:accuracy = 0.46875 (2.990 sec)\n",
      "INFO:tensorflow:global_step/sec: 35.1783\n",
      "INFO:tensorflow:step = 4900, loss = 1.0489383 (2.852 sec)\n",
      "INFO:tensorflow:accuracy = 0.59375 (2.852 sec)\n",
      "INFO:tensorflow:global_step/sec: 35.066\n",
      "INFO:tensorflow:step = 5000, loss = 1.0874815 (2.836 sec)\n",
      "INFO:tensorflow:accuracy = 0.625 (2.852 sec)\n",
      "INFO:tensorflow:global_step/sec: 36.4599\n",
      "INFO:tensorflow:step = 5100, loss = 1.7507566 (2.758 sec)\n",
      "INFO:tensorflow:accuracy = 0.34375 (2.743 sec)\n",
      "INFO:tensorflow:global_step/sec: 33.2596\n",
      "INFO:tensorflow:step = 5200, loss = 1.0112784 (2.991 sec)\n",
      "INFO:tensorflow:accuracy = 0.625 (2.991 sec)\n",
      "INFO:tensorflow:global_step/sec: 35.0504\n",
      "INFO:tensorflow:step = 5300, loss = 1.1808133 (2.853 sec)\n",
      "INFO:tensorflow:accuracy = 0.65625 (2.853 sec)\n",
      "INFO:tensorflow:global_step/sec: 31.3384\n",
      "INFO:tensorflow:step = 5400, loss = 0.83619857 (3.222 sec)\n",
      "INFO:tensorflow:accuracy = 0.75 (3.222 sec)\n",
      "INFO:tensorflow:global_step/sec: 31.0471\n",
      "INFO:tensorflow:step = 5500, loss = 1.1942595 (3.205 sec)\n",
      "INFO:tensorflow:accuracy = 0.71875 (3.205 sec)\n",
      "INFO:tensorflow:global_step/sec: 31.3444\n",
      "INFO:tensorflow:step = 5600, loss = 1.1971021 (3.175 sec)\n",
      "INFO:tensorflow:accuracy = 0.59375 (3.190 sec)\n",
      "INFO:tensorflow:global_step/sec: 33.2658\n",
      "INFO:tensorflow:step = 5700, loss = 1.5368863 (3.006 sec)\n",
      "INFO:tensorflow:accuracy = 0.3125 (2.990 sec)\n",
      "INFO:tensorflow:global_step/sec: 34.6109\n",
      "INFO:tensorflow:step = 5800, loss = 1.0290743 (2.889 sec)\n",
      "INFO:tensorflow:accuracy = 0.5625 (2.889 sec)\n",
      "INFO:tensorflow:global_step/sec: 34.8651\n",
      "INFO:tensorflow:step = 5900, loss = 1.2347946 (2.884 sec)\n",
      "INFO:tensorflow:accuracy = 0.65625 (2.884 sec)\n",
      "INFO:tensorflow:global_step/sec: 35.8486\n",
      "INFO:tensorflow:step = 6000, loss = 1.022023 (2.790 sec)\n",
      "INFO:tensorflow:accuracy = 0.59375 (2.790 sec)\n",
      "INFO:tensorflow:global_step/sec: 35.8411\n",
      "INFO:tensorflow:step = 6100, loss = 0.89990515 (2.774 sec)\n",
      "INFO:tensorflow:accuracy = 0.6875 (2.790 sec)\n",
      "INFO:tensorflow:global_step/sec: 33.6373\n",
      "INFO:tensorflow:step = 6200, loss = 0.6182012 (2.974 sec)\n",
      "INFO:tensorflow:accuracy = 0.78125 (2.959 sec)\n",
      "INFO:tensorflow:global_step/sec: 30.8844\n",
      "INFO:tensorflow:step = 6300, loss = 1.7747161 (3.252 sec)\n",
      "INFO:tensorflow:accuracy = 0.40625 (3.252 sec)\n",
      "INFO:tensorflow:global_step/sec: 34.0669\n",
      "INFO:tensorflow:step = 6400, loss = 0.8657765 (2.920 sec)\n",
      "INFO:tensorflow:accuracy = 0.75 (2.920 sec)\n",
      "INFO:tensorflow:global_step/sec: 34.0265\n",
      "INFO:tensorflow:step = 6500, loss = 2.009211 (2.941 sec)\n",
      "INFO:tensorflow:accuracy = 0.53125 (2.941 sec)\n",
      "INFO:tensorflow:global_step/sec: 34.8445\n",
      "INFO:tensorflow:step = 6600, loss = 0.86685824 (2.867 sec)\n",
      "INFO:tensorflow:accuracy = 0.71875 (2.883 sec)\n",
      "INFO:tensorflow:global_step/sec: 34.9814\n",
      "INFO:tensorflow:step = 6700, loss = 0.97715193 (2.859 sec)\n",
      "INFO:tensorflow:accuracy = 0.71875 (2.843 sec)\n",
      "INFO:tensorflow:global_step/sec: 35.6412\n",
      "INFO:tensorflow:step = 6800, loss = 0.5520328 (2.806 sec)\n",
      "INFO:tensorflow:accuracy = 0.8125 (2.806 sec)\n",
      "INFO:tensorflow:global_step/sec: 36.1309\n",
      "INFO:tensorflow:step = 6900, loss = 0.39738196 (2.786 sec)\n",
      "INFO:tensorflow:accuracy = 0.90625 (2.788 sec)\n",
      "INFO:tensorflow:global_step/sec: 35.1875\n",
      "INFO:tensorflow:step = 7000, loss = 1.3127048 (2.823 sec)\n",
      "INFO:tensorflow:accuracy = 0.625 (2.822 sec)\n",
      "INFO:tensorflow:global_step/sec: 34.4128\n",
      "INFO:tensorflow:step = 7100, loss = 0.7008237 (2.906 sec)\n",
      "INFO:tensorflow:accuracy = 0.71875 (2.906 sec)\n",
      "INFO:tensorflow:global_step/sec: 30.9428\n",
      "INFO:tensorflow:step = 7200, loss = 0.5086405 (3.232 sec)\n",
      "INFO:tensorflow:accuracy = 0.78125 (3.247 sec)\n",
      "INFO:tensorflow:global_step/sec: 30.5374\n",
      "INFO:tensorflow:step = 7300, loss = 0.81961846 (3.276 sec)\n",
      "INFO:tensorflow:accuracy = 0.71875 (3.261 sec)\n",
      "INFO:tensorflow:global_step/sec: 33.8693\n",
      "INFO:tensorflow:step = 7400, loss = 1.1805862 (2.951 sec)\n",
      "INFO:tensorflow:accuracy = 0.5625 (2.967 sec)\n",
      "INFO:tensorflow:Saving checkpoints for 7500 into ./pixel_classification/supervised_quad_conv\\model.ckpt.\n",
      "INFO:tensorflow:Loss for final step: 0.8065584.\n"
     ]
    },
    {
     "data": {
      "text/plain": [
       "<tensorflow.python.estimator.estimator.Estimator at 0x22c49c02dd8>"
      ]
     },
     "execution_count": 6,
     "metadata": {},
     "output_type": "execute_result"
    }
   ],
   "source": [
    "estimator.train(input_fn=train_in_fn, steps=STEPS)"
   ]
  },
  {
   "cell_type": "code",
   "execution_count": 7,
   "metadata": {},
   "outputs": [
    {
     "name": "stdout",
     "output_type": "stream",
     "text": [
      "INFO:tensorflow:Calling model_fn.\n",
      "INFO:tensorflow:Done calling model_fn.\n",
      "INFO:tensorflow:Starting evaluation at 2018-08-05-09:28:49\n",
      "INFO:tensorflow:Graph was finalized.\n",
      "INFO:tensorflow:Restoring parameters from ./pixel_classification/supervised_quad_conv\\model.ckpt-7500\n",
      "INFO:tensorflow:Running local_init_op.\n",
      "INFO:tensorflow:Done running local_init_op.\n",
      "INFO:tensorflow:accuracy = 1.0\n",
      "INFO:tensorflow:Finished evaluation at 2018-08-05-09:28:58\n",
      "INFO:tensorflow:Saving dict for global step 7500: global_step = 7500, loss = 0.7289746\n"
     ]
    },
    {
     "data": {
      "text/plain": [
       "{'global_step': 7500, 'loss': 0.7289746}"
      ]
     },
     "execution_count": 7,
     "metadata": {},
     "output_type": "execute_result"
    }
   ],
   "source": [
    "estimator.evaluate(input_fn=lambda: classifier_input_fn(X_train,\n",
    "                                                        Y_train,\n",
    "                                                        32, is_train=False))"
   ]
  },
  {
   "cell_type": "code",
   "execution_count": 8,
   "metadata": {},
   "outputs": [
    {
     "name": "stdout",
     "output_type": "stream",
     "text": [
      "INFO:tensorflow:Calling model_fn.\n",
      "INFO:tensorflow:Done calling model_fn.\n",
      "INFO:tensorflow:Starting evaluation at 2018-08-05-09:29:13\n",
      "INFO:tensorflow:Graph was finalized.\n",
      "INFO:tensorflow:Restoring parameters from ./pixel_classification/supervised_quad_conv\\model.ckpt-7500\n",
      "INFO:tensorflow:Running local_init_op.\n",
      "INFO:tensorflow:Done running local_init_op.\n",
      "INFO:tensorflow:accuracy = 0.0\n",
      "INFO:tensorflow:Finished evaluation at 2018-08-05-09:29:16\n",
      "INFO:tensorflow:Saving dict for global step 7500: global_step = 7500, loss = 7310.641\n"
     ]
    },
    {
     "data": {
      "text/plain": [
       "{'global_step': 7500, 'loss': 7310.641}"
      ]
     },
     "execution_count": 8,
     "metadata": {},
     "output_type": "execute_result"
    }
   ],
   "source": [
    "estimator.evaluate(input_fn=test_in_fn)"
   ]
  },
  {
   "cell_type": "markdown",
   "metadata": {},
   "source": [
    "## CoordConv over NotSoClever - Quadrant Split\n",
    "|![CoordConv Architecture for NotSoClever](./images/coordconv_arch_clf.png)|\n",
    "|:-------------------------------:|\n",
    "| Source: https://arxiv.org/pdf/1807.03247 |"
   ]
  },
  {
   "cell_type": "code",
   "execution_count": 1,
   "metadata": {},
   "outputs": [],
   "source": [
    "import tensorflow as tf\n",
    "\n",
    "from utils.nsc import NotSoCleverCreator as NSCCreator\n",
    "from models.supervised_coordconv import model_fn as coordconv_model_fn\n",
    "from nn.pipeline import classifier_input_fn"
   ]
  },
  {
   "cell_type": "code",
   "execution_count": 2,
   "metadata": {},
   "outputs": [
    {
     "data": {
      "text/plain": [
       "((2408, 2), (841, 2), (2408, 64, 64, 1), (841, 64, 64, 1))"
      ]
     },
     "execution_count": 2,
     "metadata": {},
     "output_type": "execute_result"
    }
   ],
   "source": [
    "nsc = NSCCreator()\n",
    "\n",
    "X_train, X_test = nsc.quadrant_split()\n",
    "Y_train = nsc.one_hot_coords(nsc.canvas_size, X_train)\n",
    "Y_test = nsc.one_hot_coords(nsc.canvas_size, X_test)\n",
    "\n",
    "X_train.shape, X_test.shape, Y_train.shape, Y_test.shape"
   ]
  },
  {
   "cell_type": "code",
   "execution_count": 3,
   "metadata": {},
   "outputs": [
    {
     "name": "stdout",
     "output_type": "stream",
     "text": [
      "INFO:tensorflow:Using default config.\n",
      "INFO:tensorflow:Using config: {'_service': None, '_is_chief': True, '_evaluation_master': '', '_keep_checkpoint_max': 5, '_cluster_spec': <tensorflow.python.training.server_lib.ClusterSpec object at 0x000001E915E859B0>, '_num_ps_replicas': 0, '_save_checkpoints_secs': 600, '_global_id_in_cluster': 0, '_save_summary_steps': 100, '_keep_checkpoint_every_n_hours': 10000, '_master': '', '_log_step_count_steps': 100, '_session_config': None, '_task_id': 0, '_num_worker_replicas': 1, '_tf_random_seed': None, '_model_dir': './pixel_classification/supervised_quad_coord', '_task_type': 'worker', '_save_checkpoints_steps': None, '_train_distribute': None}\n"
     ]
    }
   ],
   "source": [
    "estimator = tf.estimator.Estimator(model_fn=coordconv_model_fn,\n",
    "                                   params={\n",
    "                                       'lr': 1e-3\n",
    "                                   },\n",
    "                                   model_dir='./pixel_classification/supervised_quad_coord')"
   ]
  },
  {
   "cell_type": "code",
   "execution_count": 4,
   "metadata": {},
   "outputs": [],
   "source": [
    "train_in_fn = lambda: classifier_input_fn(X_train, Y_train, 32)\n",
    "test_in_fn = lambda: classifier_input_fn(X_test, Y_test, 32, is_train=False)"
   ]
  },
  {
   "cell_type": "code",
   "execution_count": 5,
   "metadata": {},
   "outputs": [
    {
     "data": {
      "text/plain": [
       "7500"
      ]
     },
     "execution_count": 5,
     "metadata": {},
     "output_type": "execute_result"
    }
   ],
   "source": [
    "EPOCHS = 100\n",
    "STEPS_PER_EPOCH = X_train.shape[0] // 32\n",
    "STEPS = EPOCHS * STEPS_PER_EPOCH\n",
    "\n",
    "STEPS"
   ]
  },
  {
   "cell_type": "code",
   "execution_count": 6,
   "metadata": {},
   "outputs": [
    {
     "name": "stdout",
     "output_type": "stream",
     "text": [
      "INFO:tensorflow:Calling model_fn.\n",
      "INFO:tensorflow:Done calling model_fn.\n",
      "INFO:tensorflow:Create CheckpointSaverHook.\n",
      "INFO:tensorflow:Graph was finalized.\n",
      "INFO:tensorflow:Running local_init_op.\n",
      "INFO:tensorflow:Done running local_init_op.\n",
      "INFO:tensorflow:Saving checkpoints for 1 into ./pixel_classification/supervised_quad_coord\\model.ckpt.\n",
      "INFO:tensorflow:step = 0, loss = 8.287167\n",
      "INFO:tensorflow:accuracy = 0.0\n",
      "INFO:tensorflow:global_step/sec: 3.42047\n",
      "INFO:tensorflow:step = 100, loss = 7.5643306 (29.274 sec)\n",
      "INFO:tensorflow:accuracy = 0.0 (29.274 sec)\n",
      "INFO:tensorflow:global_step/sec: 3.57952\n",
      "INFO:tensorflow:step = 200, loss = 6.385539 (27.899 sec)\n",
      "INFO:tensorflow:accuracy = 0.0 (27.899 sec)\n",
      "INFO:tensorflow:global_step/sec: 3.58036\n",
      "INFO:tensorflow:step = 300, loss = 5.1956162 (27.993 sec)\n",
      "INFO:tensorflow:accuracy = 0.0625 (27.993 sec)\n",
      "INFO:tensorflow:global_step/sec: 3.60377\n",
      "INFO:tensorflow:step = 400, loss = 4.6345787 (27.702 sec)\n",
      "INFO:tensorflow:accuracy = 0.03125 (27.702 sec)\n",
      "INFO:tensorflow:global_step/sec: 3.58071\n",
      "INFO:tensorflow:step = 500, loss = 4.5271225 (27.927 sec)\n",
      "INFO:tensorflow:accuracy = 0.0 (27.927 sec)\n",
      "INFO:tensorflow:global_step/sec: 3.56798\n",
      "INFO:tensorflow:step = 600, loss = 4.1263027 (28.016 sec)\n",
      "INFO:tensorflow:accuracy = 0.0 (28.016 sec)\n",
      "INFO:tensorflow:global_step/sec: 3.60146\n",
      "INFO:tensorflow:step = 700, loss = 3.5931976 (27.762 sec)\n",
      "INFO:tensorflow:accuracy = 0.0 (27.762 sec)\n",
      "INFO:tensorflow:global_step/sec: 3.57936\n",
      "INFO:tensorflow:step = 800, loss = 2.818496 (27.969 sec)\n",
      "INFO:tensorflow:accuracy = 0.34375 (27.969 sec)\n",
      "INFO:tensorflow:global_step/sec: 3.57588\n",
      "INFO:tensorflow:step = 900, loss = 3.1944697 (27.937 sec)\n",
      "INFO:tensorflow:accuracy = 0.0 (27.939 sec)\n",
      "INFO:tensorflow:global_step/sec: 3.60489\n",
      "INFO:tensorflow:step = 1000, loss = 4.130589 (27.752 sec)\n",
      "INFO:tensorflow:accuracy = 0.0 (27.751 sec)\n",
      "INFO:tensorflow:global_step/sec: 2.24523\n",
      "INFO:tensorflow:step = 1100, loss = 4.632641 (44.524 sec)\n",
      "INFO:tensorflow:accuracy = 0.03125 (44.524 sec)\n",
      "INFO:tensorflow:global_step/sec: 3.57137\n",
      "INFO:tensorflow:step = 1200, loss = 2.9158463 (28.031 sec)\n",
      "INFO:tensorflow:accuracy = 0.125 (28.031 sec)\n",
      "INFO:tensorflow:global_step/sec: 3.53361\n",
      "INFO:tensorflow:step = 1300, loss = 3.1402497 (28.270 sec)\n",
      "INFO:tensorflow:accuracy = 0.125 (28.270 sec)\n",
      "INFO:tensorflow:global_step/sec: 3.53746\n",
      "INFO:tensorflow:step = 1400, loss = 2.774085 (28.272 sec)\n",
      "INFO:tensorflow:accuracy = 0.25 (28.272 sec)\n",
      "INFO:tensorflow:global_step/sec: 3.55818\n",
      "INFO:tensorflow:step = 1500, loss = 2.5233355 (28.104 sec)\n",
      "INFO:tensorflow:accuracy = 0.15625 (28.106 sec)\n",
      "INFO:tensorflow:global_step/sec: 3.59343\n",
      "INFO:tensorflow:step = 1600, loss = 2.999454 (27.824 sec)\n",
      "INFO:tensorflow:accuracy = 0.09375 (27.838 sec)\n",
      "INFO:tensorflow:global_step/sec: 3.49545\n",
      "INFO:tensorflow:step = 1700, loss = 2.206543 (28.640 sec)\n",
      "INFO:tensorflow:accuracy = 0.65625 (28.624 sec)\n",
      "INFO:tensorflow:global_step/sec: 3.55008\n",
      "INFO:tensorflow:step = 1800, loss = 3.1997983 (28.153 sec)\n",
      "INFO:tensorflow:accuracy = 0.03125 (28.153 sec)\n",
      "INFO:tensorflow:global_step/sec: 3.58228\n",
      "INFO:tensorflow:step = 1900, loss = 3.1440716 (27.900 sec)\n",
      "INFO:tensorflow:accuracy = 0.03125 (27.900 sec)\n",
      "INFO:tensorflow:global_step/sec: 3.56223\n",
      "INFO:tensorflow:step = 2000, loss = 2.1683705 (28.072 sec)\n",
      "INFO:tensorflow:accuracy = 0.40625 (28.088 sec)\n",
      "INFO:tensorflow:Saving checkpoints for 2067 into ./pixel_classification/supervised_quad_coord\\model.ckpt.\n",
      "INFO:tensorflow:global_step/sec: 3.07622\n",
      "INFO:tensorflow:step = 2100, loss = 2.8269987 (32.512 sec)\n",
      "INFO:tensorflow:accuracy = 0.15625 (32.497 sec)\n",
      "INFO:tensorflow:global_step/sec: 3.56646\n",
      "INFO:tensorflow:step = 2200, loss = 2.298685 (28.081 sec)\n",
      "INFO:tensorflow:accuracy = 0.40625 (28.080 sec)\n",
      "INFO:tensorflow:global_step/sec: 3.57697\n",
      "INFO:tensorflow:step = 2300, loss = 3.1663077 (27.914 sec)\n",
      "INFO:tensorflow:accuracy = 0.125 (27.917 sec)\n",
      "INFO:tensorflow:global_step/sec: 3.56086\n",
      "INFO:tensorflow:step = 2400, loss = 1.8324646 (28.079 sec)\n",
      "INFO:tensorflow:accuracy = 0.25 (28.076 sec)\n",
      "INFO:tensorflow:global_step/sec: 3.5566\n",
      "INFO:tensorflow:step = 2500, loss = 2.1002176 (28.132 sec)\n",
      "INFO:tensorflow:accuracy = 0.65625 (28.132 sec)\n",
      "INFO:tensorflow:global_step/sec: 3.57904\n",
      "INFO:tensorflow:step = 2600, loss = 1.6405718 (27.925 sec)\n",
      "INFO:tensorflow:accuracy = 0.75 (27.925 sec)\n",
      "INFO:tensorflow:global_step/sec: 3.54975\n",
      "INFO:tensorflow:step = 2700, loss = 2.2290077 (28.241 sec)\n",
      "INFO:tensorflow:accuracy = 0.21875 (28.244 sec)\n",
      "INFO:tensorflow:global_step/sec: 3.54295\n",
      "INFO:tensorflow:step = 2800, loss = 1.7853448 (28.161 sec)\n",
      "INFO:tensorflow:accuracy = 0.5 (28.158 sec)\n",
      "INFO:tensorflow:global_step/sec: 3.5811\n",
      "INFO:tensorflow:step = 2900, loss = 2.6717975 (27.934 sec)\n",
      "INFO:tensorflow:accuracy = 0.15625 (27.934 sec)\n",
      "INFO:tensorflow:global_step/sec: 3.55978\n",
      "INFO:tensorflow:step = 3000, loss = 2.5039535 (28.092 sec)\n",
      "INFO:tensorflow:accuracy = 0.25 (28.092 sec)\n",
      "INFO:tensorflow:global_step/sec: 3.55305\n",
      "INFO:tensorflow:step = 3100, loss = 2.8196113 (28.129 sec)\n",
      "INFO:tensorflow:accuracy = 0.21875 (28.129 sec)\n",
      "INFO:tensorflow:global_step/sec: 3.57222\n",
      "INFO:tensorflow:step = 3200, loss = 1.0172906 (28.008 sec)\n",
      "INFO:tensorflow:accuracy = 0.9375 (28.008 sec)\n",
      "INFO:tensorflow:global_step/sec: 3.55184\n",
      "INFO:tensorflow:step = 3300, loss = 2.3917763 (28.140 sec)\n",
      "INFO:tensorflow:accuracy = 0.34375 (28.156 sec)\n",
      "INFO:tensorflow:global_step/sec: 3.53945\n",
      "INFO:tensorflow:step = 3400, loss = 1.5952688 (28.258 sec)\n",
      "INFO:tensorflow:accuracy = 0.6875 (28.245 sec)\n",
      "INFO:tensorflow:global_step/sec: 3.58229\n",
      "INFO:tensorflow:step = 3500, loss = 1.7708049 (27.916 sec)\n",
      "INFO:tensorflow:accuracy = 0.625 (27.916 sec)\n",
      "INFO:tensorflow:global_step/sec: 3.56756\n",
      "INFO:tensorflow:step = 3600, loss = 2.5225325 (28.025 sec)\n",
      "INFO:tensorflow:accuracy = 0.0625 (28.022 sec)\n",
      "INFO:tensorflow:global_step/sec: 3.56548\n",
      "INFO:tensorflow:step = 3700, loss = 1.827638 (28.085 sec)\n",
      "INFO:tensorflow:accuracy = 0.46875 (28.085 sec)\n",
      "INFO:tensorflow:global_step/sec: 3.58286\n",
      "INFO:tensorflow:step = 3800, loss = 2.243103 (27.873 sec)\n",
      "INFO:tensorflow:accuracy = 0.1875 (27.889 sec)\n",
      "INFO:tensorflow:global_step/sec: 3.57036\n",
      "INFO:tensorflow:step = 3900, loss = 1.2662117 (28.008 sec)\n",
      "INFO:tensorflow:accuracy = 0.59375 (28.008 sec)\n",
      "INFO:tensorflow:global_step/sec: 3.56839\n",
      "INFO:tensorflow:step = 4000, loss = 2.269358 (28.029 sec)\n",
      "INFO:tensorflow:accuracy = 0.1875 (28.016 sec)\n",
      "INFO:tensorflow:global_step/sec: 3.57314\n",
      "INFO:tensorflow:step = 4100, loss = 5.0169334 (27.981 sec)\n",
      "INFO:tensorflow:accuracy = 0.0 (27.979 sec)\n",
      "INFO:tensorflow:Saving checkpoints for 4191 into ./pixel_classification/supervised_quad_coord\\model.ckpt.\n",
      "INFO:tensorflow:global_step/sec: 3.20485\n",
      "INFO:tensorflow:step = 4200, loss = 2.818725 (31.207 sec)\n",
      "INFO:tensorflow:accuracy = 0.03125 (31.208 sec)\n",
      "INFO:tensorflow:global_step/sec: 3.57043\n",
      "INFO:tensorflow:step = 4300, loss = 2.0681467 (28.006 sec)\n",
      "INFO:tensorflow:accuracy = 0.28125 (28.005 sec)\n",
      "INFO:tensorflow:global_step/sec: 3.54638\n",
      "INFO:tensorflow:step = 4400, loss = 1.6070917 (28.211 sec)\n",
      "INFO:tensorflow:accuracy = 0.59375 (28.211 sec)\n",
      "INFO:tensorflow:global_step/sec: 3.58438\n",
      "INFO:tensorflow:step = 4500, loss = 2.2245493 (27.899 sec)\n",
      "INFO:tensorflow:accuracy = 0.15625 (27.899 sec)\n",
      "INFO:tensorflow:global_step/sec: 3.56547\n",
      "INFO:tensorflow:step = 4600, loss = 1.9861934 (28.047 sec)\n",
      "INFO:tensorflow:accuracy = 0.125 (28.047 sec)\n",
      "INFO:tensorflow:global_step/sec: 3.56361\n",
      "INFO:tensorflow:step = 4700, loss = 0.73254716 (28.077 sec)\n",
      "INFO:tensorflow:accuracy = 1.0 (28.077 sec)\n",
      "INFO:tensorflow:global_step/sec: 3.58303\n",
      "INFO:tensorflow:step = 4800, loss = 2.8787036 (27.894 sec)\n",
      "INFO:tensorflow:accuracy = 0.25 (27.894 sec)\n",
      "INFO:tensorflow:global_step/sec: 3.56926\n",
      "INFO:tensorflow:step = 4900, loss = 2.2056837 (28.001 sec)\n",
      "INFO:tensorflow:accuracy = 0.15625 (28.001 sec)\n",
      "INFO:tensorflow:global_step/sec: 3.56455\n",
      "INFO:tensorflow:step = 5000, loss = 1.7758607 (28.059 sec)\n",
      "INFO:tensorflow:accuracy = 0.125 (28.060 sec)\n",
      "INFO:tensorflow:global_step/sec: 3.58519\n",
      "INFO:tensorflow:step = 5100, loss = 2.8657746 (27.892 sec)\n",
      "INFO:tensorflow:accuracy = 0.03125 (27.892 sec)\n",
      "INFO:tensorflow:global_step/sec: 3.56725\n",
      "INFO:tensorflow:step = 5200, loss = 1.4326464 (28.066 sec)\n",
      "INFO:tensorflow:accuracy = 0.5 (28.065 sec)\n",
      "INFO:tensorflow:global_step/sec: 3.56755\n",
      "INFO:tensorflow:step = 5300, loss = 6.068924 (27.993 sec)\n",
      "INFO:tensorflow:accuracy = 0.03125 (27.993 sec)\n",
      "INFO:tensorflow:global_step/sec: 3.59923\n",
      "INFO:tensorflow:step = 5400, loss = 3.8438144 (27.784 sec)\n",
      "INFO:tensorflow:accuracy = 0.21875 (27.784 sec)\n",
      "INFO:tensorflow:global_step/sec: 3.5745\n",
      "INFO:tensorflow:step = 5500, loss = 2.6729772 (27.976 sec)\n",
      "INFO:tensorflow:accuracy = 0.09375 (27.976 sec)\n",
      "INFO:tensorflow:global_step/sec: 3.57158\n",
      "INFO:tensorflow:step = 5600, loss = 1.3262691 (28.000 sec)\n",
      "INFO:tensorflow:accuracy = 0.71875 (28.000 sec)\n",
      "INFO:tensorflow:global_step/sec: 3.59709\n",
      "INFO:tensorflow:step = 5700, loss = 2.1419368 (27.837 sec)\n",
      "INFO:tensorflow:accuracy = 0.375 (27.837 sec)\n",
      "INFO:tensorflow:global_step/sec: 3.56439\n",
      "INFO:tensorflow:step = 5800, loss = 0.52024734 (28.035 sec)\n",
      "INFO:tensorflow:accuracy = 1.0 (28.036 sec)\n",
      "INFO:tensorflow:global_step/sec: 3.56712\n",
      "INFO:tensorflow:step = 5900, loss = 1.2516215 (28.021 sec)\n",
      "INFO:tensorflow:accuracy = 0.6875 (28.020 sec)\n",
      "INFO:tensorflow:global_step/sec: 3.57386\n",
      "INFO:tensorflow:step = 6000, loss = 1.1910638 (27.992 sec)\n",
      "INFO:tensorflow:accuracy = 0.53125 (27.992 sec)\n",
      "INFO:tensorflow:global_step/sec: 3.59762\n",
      "INFO:tensorflow:step = 6100, loss = 0.91671205 (27.781 sec)\n",
      "INFO:tensorflow:accuracy = 0.65625 (27.781 sec)\n",
      "INFO:tensorflow:global_step/sec: 3.56221\n",
      "INFO:tensorflow:step = 6200, loss = 5.6158133 (28.107 sec)\n",
      "INFO:tensorflow:accuracy = 0.0 (28.107 sec)\n",
      "INFO:tensorflow:global_step/sec: 3.56464\n",
      "INFO:tensorflow:step = 6300, loss = 3.3761332 (28.023 sec)\n",
      "INFO:tensorflow:accuracy = 0.1875 (28.025 sec)\n",
      "INFO:tensorflow:Saving checkpoints for 6324 into ./pixel_classification/supervised_quad_coord\\model.ckpt.\n",
      "INFO:tensorflow:global_step/sec: 3.22887\n",
      "INFO:tensorflow:step = 6400, loss = 1.1873472 (30.967 sec)\n",
      "INFO:tensorflow:accuracy = 0.46875 (30.964 sec)\n",
      "INFO:tensorflow:global_step/sec: 3.56625\n",
      "INFO:tensorflow:step = 6500, loss = 1.4085164 (28.044 sec)\n",
      "INFO:tensorflow:accuracy = 0.5625 (28.046 sec)\n",
      "INFO:tensorflow:global_step/sec: 3.56925\n",
      "INFO:tensorflow:step = 6600, loss = 4.226528 (28.014 sec)\n",
      "INFO:tensorflow:accuracy = 0.0 (28.012 sec)\n",
      "INFO:tensorflow:global_step/sec: 3.58866\n",
      "INFO:tensorflow:step = 6700, loss = 0.30135167 (27.903 sec)\n",
      "INFO:tensorflow:accuracy = 1.0 (27.903 sec)\n",
      "INFO:tensorflow:global_step/sec: 3.56153\n",
      "INFO:tensorflow:step = 6800, loss = 0.62115324 (28.046 sec)\n",
      "INFO:tensorflow:accuracy = 0.96875 (28.048 sec)\n",
      "INFO:tensorflow:global_step/sec: 3.54716\n",
      "INFO:tensorflow:step = 6900, loss = 1.0371928 (28.186 sec)\n",
      "INFO:tensorflow:accuracy = 0.71875 (28.184 sec)\n",
      "INFO:tensorflow:global_step/sec: 3.58137\n",
      "INFO:tensorflow:step = 7000, loss = 0.7368101 (27.922 sec)\n",
      "INFO:tensorflow:accuracy = 0.96875 (27.922 sec)\n",
      "INFO:tensorflow:global_step/sec: 3.57479\n",
      "INFO:tensorflow:step = 7100, loss = 0.7946677 (27.989 sec)\n",
      "INFO:tensorflow:accuracy = 0.8125 (27.989 sec)\n",
      "INFO:tensorflow:global_step/sec: 3.5715\n",
      "INFO:tensorflow:step = 7200, loss = 1.9484146 (28.031 sec)\n",
      "INFO:tensorflow:accuracy = 0.34375 (28.031 sec)\n",
      "INFO:tensorflow:global_step/sec: 3.58905\n",
      "INFO:tensorflow:step = 7300, loss = 0.30018997 (27.820 sec)\n",
      "INFO:tensorflow:accuracy = 1.0 (27.823 sec)\n",
      "INFO:tensorflow:global_step/sec: 3.56802\n",
      "INFO:tensorflow:step = 7400, loss = 0.3769375 (28.027 sec)\n",
      "INFO:tensorflow:accuracy = 1.0 (28.026 sec)\n",
      "INFO:tensorflow:Saving checkpoints for 7500 into ./pixel_classification/supervised_quad_coord\\model.ckpt.\n",
      "INFO:tensorflow:Loss for final step: 2.1894236.\n"
     ]
    },
    {
     "data": {
      "text/plain": [
       "<tensorflow.python.estimator.estimator.Estimator at 0x1e91c2d1c18>"
      ]
     },
     "execution_count": 6,
     "metadata": {},
     "output_type": "execute_result"
    }
   ],
   "source": [
    "estimator.train(input_fn=train_in_fn, steps=STEPS)"
   ]
  },
  {
   "cell_type": "code",
   "execution_count": 7,
   "metadata": {},
   "outputs": [
    {
     "name": "stdout",
     "output_type": "stream",
     "text": [
      "INFO:tensorflow:Calling model_fn.\n",
      "INFO:tensorflow:Done calling model_fn.\n",
      "INFO:tensorflow:Starting evaluation at 2018-08-05-10:23:25\n",
      "INFO:tensorflow:Graph was finalized.\n",
      "INFO:tensorflow:Restoring parameters from ./pixel_classification/supervised_quad_coord\\model.ckpt-7500\n",
      "INFO:tensorflow:Running local_init_op.\n",
      "INFO:tensorflow:Done running local_init_op.\n",
      "INFO:tensorflow:accuracy = 0.40625\n",
      "INFO:tensorflow:Finished evaluation at 2018-08-05-10:23:39\n",
      "INFO:tensorflow:Saving dict for global step 7500: global_step = 7500, loss = 2.7045329\n"
     ]
    },
    {
     "data": {
      "text/plain": [
       "{'global_step': 7500, 'loss': 2.7045329}"
      ]
     },
     "execution_count": 7,
     "metadata": {},
     "output_type": "execute_result"
    }
   ],
   "source": [
    "estimator.evaluate(input_fn=lambda: classifier_input_fn(X_train,\n",
    "                                                        Y_train,\n",
    "                                                        32, is_train=False))"
   ]
  },
  {
   "cell_type": "code",
   "execution_count": 8,
   "metadata": {},
   "outputs": [
    {
     "name": "stdout",
     "output_type": "stream",
     "text": [
      "INFO:tensorflow:Calling model_fn.\n",
      "INFO:tensorflow:Done calling model_fn.\n",
      "INFO:tensorflow:Starting evaluation at 2018-08-05-10:23:47\n",
      "INFO:tensorflow:Graph was finalized.\n",
      "INFO:tensorflow:Restoring parameters from ./pixel_classification/supervised_quad_coord\\model.ckpt-7500\n",
      "INFO:tensorflow:Running local_init_op.\n",
      "INFO:tensorflow:Done running local_init_op.\n",
      "INFO:tensorflow:accuracy = 0.21875\n",
      "INFO:tensorflow:Finished evaluation at 2018-08-05-10:23:53\n",
      "INFO:tensorflow:Saving dict for global step 7500: global_step = 7500, loss = 2.587729\n"
     ]
    },
    {
     "data": {
      "text/plain": [
       "{'global_step': 7500, 'loss': 2.587729}"
      ]
     },
     "execution_count": 8,
     "metadata": {},
     "output_type": "execute_result"
    }
   ],
   "source": [
    "estimator.evaluate(input_fn=test_in_fn)"
   ]
  },
  {
   "cell_type": "markdown",
   "metadata": {},
   "source": [
    "## Deconvolution over NotSoClever - Uniform Split\n",
    "*Same architecture*"
   ]
  },
  {
   "cell_type": "code",
   "execution_count": 1,
   "metadata": {},
   "outputs": [],
   "source": [
    "import tensorflow as tf\n",
    "\n",
    "from utils.nsc import NotSoCleverCreator as NSCCreator\n",
    "from models.supervised_conv import model_fn as conv_model_fn\n",
    "from nn.pipeline import classifier_input_fn"
   ]
  },
  {
   "cell_type": "code",
   "execution_count": 2,
   "metadata": {},
   "outputs": [
    {
     "data": {
      "text/plain": [
       "((2436, 2), (813, 2), (2436, 64, 64, 1), (813, 64, 64, 1))"
      ]
     },
     "execution_count": 2,
     "metadata": {},
     "output_type": "execute_result"
    }
   ],
   "source": [
    "nsc = NSCCreator()\n",
    "\n",
    "X_train, X_test = nsc.uniform_split()\n",
    "Y_train = nsc.one_hot_coords(nsc.canvas_size, X_train)\n",
    "Y_test = nsc.one_hot_coords(nsc.canvas_size, X_test)\n",
    "\n",
    "X_train.shape, X_test.shape, Y_train.shape, Y_test.shape"
   ]
  },
  {
   "cell_type": "code",
   "execution_count": 3,
   "metadata": {},
   "outputs": [
    {
     "name": "stdout",
     "output_type": "stream",
     "text": [
      "INFO:tensorflow:Using default config.\n",
      "INFO:tensorflow:Using config: {'_num_ps_replicas': 0, '_save_checkpoints_steps': None, '_keep_checkpoint_every_n_hours': 10000, '_model_dir': './pixel_classification/supervised_uniform_conv', '_session_config': None, '_log_step_count_steps': 100, '_train_distribute': None, '_master': '', '_cluster_spec': <tensorflow.python.training.server_lib.ClusterSpec object at 0x000001A67D022E10>, '_keep_checkpoint_max': 5, '_tf_random_seed': None, '_is_chief': True, '_global_id_in_cluster': 0, '_save_summary_steps': 100, '_task_type': 'worker', '_service': None, '_save_checkpoints_secs': 600, '_num_worker_replicas': 1, '_evaluation_master': '', '_task_id': 0}\n"
     ]
    }
   ],
   "source": [
    "estimator = tf.estimator.Estimator(model_fn=conv_model_fn,\n",
    "                                   params={\n",
    "                                       'lr': 1e-3,\n",
    "                                       'c': 1\n",
    "                                   },\n",
    "                                   model_dir='./pixel_classification/supervised_uniform_conv')"
   ]
  },
  {
   "cell_type": "code",
   "execution_count": 4,
   "metadata": {},
   "outputs": [],
   "source": [
    "train_in_fn = lambda: classifier_input_fn(X_train, Y_train, 32)\n",
    "test_in_fn = lambda: classifier_input_fn(X_test, Y_test, 32, is_train=False)"
   ]
  },
  {
   "cell_type": "code",
   "execution_count": 5,
   "metadata": {},
   "outputs": [
    {
     "data": {
      "text/plain": [
       "7600"
      ]
     },
     "execution_count": 5,
     "metadata": {},
     "output_type": "execute_result"
    }
   ],
   "source": [
    "EPOCHS = 100\n",
    "STEPS_PER_EPOCH = X_train.shape[0] // 32\n",
    "STEPS = EPOCHS * STEPS_PER_EPOCH\n",
    "\n",
    "STEPS"
   ]
  },
  {
   "cell_type": "code",
   "execution_count": 6,
   "metadata": {},
   "outputs": [
    {
     "name": "stdout",
     "output_type": "stream",
     "text": [
      "INFO:tensorflow:Calling model_fn.\n",
      "INFO:tensorflow:Done calling model_fn.\n",
      "INFO:tensorflow:Create CheckpointSaverHook.\n",
      "INFO:tensorflow:Graph was finalized.\n",
      "INFO:tensorflow:Running local_init_op.\n",
      "INFO:tensorflow:Done running local_init_op.\n",
      "INFO:tensorflow:Saving checkpoints for 1 into ./pixel_classification/supervised_uniform_conv\\model.ckpt.\n",
      "INFO:tensorflow:loss = 8.315047, step = 0\n",
      "INFO:tensorflow:accuracy = 0.0\n",
      "INFO:tensorflow:global_step/sec: 24.9472\n",
      "INFO:tensorflow:loss = 7.67513, step = 100 (4.008 sec)\n",
      "INFO:tensorflow:accuracy = 0.0 (4.025 sec)\n",
      "INFO:tensorflow:global_step/sec: 36.4496\n",
      "INFO:tensorflow:loss = 6.647333, step = 200 (2.744 sec)\n",
      "INFO:tensorflow:accuracy = 0.0 (2.727 sec)\n",
      "INFO:tensorflow:global_step/sec: 36.553\n",
      "INFO:tensorflow:loss = 5.9990826, step = 300 (2.736 sec)\n",
      "INFO:tensorflow:accuracy = 0.0 (2.736 sec)\n",
      "INFO:tensorflow:global_step/sec: 36.9695\n",
      "INFO:tensorflow:loss = 5.4760075, step = 400 (2.705 sec)\n",
      "INFO:tensorflow:accuracy = 0.0 (2.721 sec)\n",
      "INFO:tensorflow:global_step/sec: 36.7464\n",
      "INFO:tensorflow:loss = 5.493181, step = 500 (2.737 sec)\n",
      "INFO:tensorflow:accuracy = 0.0 (2.721 sec)\n",
      "INFO:tensorflow:global_step/sec: 36.2443\n",
      "INFO:tensorflow:loss = 4.969417, step = 600 (2.743 sec)\n",
      "INFO:tensorflow:accuracy = 0.0 (2.743 sec)\n",
      "INFO:tensorflow:global_step/sec: 36.3437\n",
      "INFO:tensorflow:loss = 5.079538, step = 700 (2.752 sec)\n",
      "INFO:tensorflow:accuracy = 0.03125 (2.752 sec)\n",
      "INFO:tensorflow:global_step/sec: 36.2572\n",
      "INFO:tensorflow:loss = 4.357486, step = 800 (2.758 sec)\n",
      "INFO:tensorflow:accuracy = 0.0 (2.774 sec)\n",
      "INFO:tensorflow:global_step/sec: 36.3343\n",
      "INFO:tensorflow:loss = 4.337323, step = 900 (2.752 sec)\n",
      "INFO:tensorflow:accuracy = 0.0625 (2.737 sec)\n",
      "INFO:tensorflow:global_step/sec: 36.9508\n",
      "INFO:tensorflow:loss = 4.426549, step = 1000 (2.706 sec)\n",
      "INFO:tensorflow:accuracy = 0.0 (2.722 sec)\n",
      "INFO:tensorflow:global_step/sec: 33.6079\n",
      "INFO:tensorflow:loss = 3.71315, step = 1100 (2.975 sec)\n",
      "INFO:tensorflow:accuracy = 0.0625 (2.960 sec)\n",
      "INFO:tensorflow:global_step/sec: 36.337\n",
      "INFO:tensorflow:loss = 4.158977, step = 1200 (2.752 sec)\n",
      "INFO:tensorflow:accuracy = 0.03125 (2.752 sec)\n",
      "INFO:tensorflow:global_step/sec: 36.4554\n",
      "INFO:tensorflow:loss = 3.7037792, step = 1300 (2.743 sec)\n",
      "INFO:tensorflow:accuracy = 0.0625 (2.743 sec)\n",
      "INFO:tensorflow:global_step/sec: 36.7516\n",
      "INFO:tensorflow:loss = 3.90911, step = 1400 (2.721 sec)\n",
      "INFO:tensorflow:accuracy = 0.0625 (2.721 sec)\n",
      "INFO:tensorflow:global_step/sec: 36.5304\n",
      "INFO:tensorflow:loss = 3.0564778, step = 1500 (2.753 sec)\n",
      "INFO:tensorflow:accuracy = 0.15625 (2.753 sec)\n",
      "INFO:tensorflow:global_step/sec: 34.6026\n",
      "INFO:tensorflow:loss = 3.3729024, step = 1600 (2.874 sec)\n",
      "INFO:tensorflow:accuracy = 0.125 (2.874 sec)\n",
      "INFO:tensorflow:global_step/sec: 36.7328\n",
      "INFO:tensorflow:loss = 3.6605005, step = 1700 (2.722 sec)\n",
      "INFO:tensorflow:accuracy = 0.03125 (2.738 sec)\n",
      "INFO:tensorflow:global_step/sec: 36.7616\n",
      "INFO:tensorflow:loss = 3.2328167, step = 1800 (2.720 sec)\n",
      "INFO:tensorflow:accuracy = 0.09375 (2.721 sec)\n",
      "INFO:tensorflow:global_step/sec: 36.6547\n",
      "INFO:tensorflow:loss = 2.9335165, step = 1900 (2.876 sec)\n",
      "INFO:tensorflow:accuracy = 0.1875 (2.860 sec)\n",
      "INFO:tensorflow:global_step/sec: 34.2142\n",
      "INFO:tensorflow:loss = 2.7996137, step = 2000 (2.775 sec)\n",
      "INFO:tensorflow:accuracy = 0.15625 (2.775 sec)\n",
      "INFO:tensorflow:global_step/sec: 35.4405\n",
      "INFO:tensorflow:loss = 2.4623618, step = 2100 (2.822 sec)\n",
      "INFO:tensorflow:accuracy = 0.25 (2.822 sec)\n",
      "INFO:tensorflow:global_step/sec: 35.2412\n",
      "INFO:tensorflow:loss = 2.6271224, step = 2200 (2.838 sec)\n",
      "INFO:tensorflow:accuracy = 0.34375 (2.838 sec)\n",
      "INFO:tensorflow:global_step/sec: 35.1684\n",
      "INFO:tensorflow:loss = 2.5851204, step = 2300 (2.843 sec)\n",
      "INFO:tensorflow:accuracy = 0.21875 (2.859 sec)\n",
      "INFO:tensorflow:global_step/sec: 35.914\n",
      "INFO:tensorflow:loss = 2.1686559, step = 2400 (2.804 sec)\n",
      "INFO:tensorflow:accuracy = 0.21875 (2.790 sec)\n",
      "INFO:tensorflow:global_step/sec: 35.8376\n",
      "INFO:tensorflow:loss = 2.0306804, step = 2500 (2.771 sec)\n",
      "INFO:tensorflow:accuracy = 0.25 (2.769 sec)\n",
      "INFO:tensorflow:global_step/sec: 36.7494\n",
      "INFO:tensorflow:loss = 2.4708242, step = 2600 (2.721 sec)\n",
      "INFO:tensorflow:accuracy = 0.28125 (2.739 sec)\n",
      "INFO:tensorflow:global_step/sec: 36.4508\n",
      "INFO:tensorflow:loss = 2.1041446, step = 2700 (2.743 sec)\n",
      "INFO:tensorflow:accuracy = 0.21875 (2.741 sec)\n",
      "INFO:tensorflow:global_step/sec: 35.2547\n",
      "INFO:tensorflow:loss = 2.7675467, step = 2800 (2.837 sec)\n",
      "INFO:tensorflow:accuracy = 0.3125 (2.821 sec)\n",
      "INFO:tensorflow:global_step/sec: 34.797\n",
      "INFO:tensorflow:loss = 1.7947322, step = 2900 (2.874 sec)\n",
      "INFO:tensorflow:accuracy = 0.375 (2.874 sec)\n",
      "INFO:tensorflow:global_step/sec: 29.785\n",
      "INFO:tensorflow:loss = 1.694282, step = 3000 (3.373 sec)\n",
      "INFO:tensorflow:accuracy = 0.34375 (3.373 sec)\n",
      "INFO:tensorflow:global_step/sec: 32.4072\n",
      "INFO:tensorflow:loss = 2.2370768, step = 3100 (3.070 sec)\n",
      "INFO:tensorflow:accuracy = 0.21875 (3.086 sec)\n",
      "INFO:tensorflow:global_step/sec: 35.4392\n",
      "INFO:tensorflow:loss = 1.9482484, step = 3200 (2.837 sec)\n",
      "INFO:tensorflow:accuracy = 0.46875 (2.822 sec)\n",
      "INFO:tensorflow:global_step/sec: 36.0444\n",
      "INFO:tensorflow:loss = 1.5825856, step = 3300 (2.759 sec)\n",
      "INFO:tensorflow:accuracy = 0.46875 (2.759 sec)\n",
      "INFO:tensorflow:global_step/sec: 36.5423\n",
      "INFO:tensorflow:loss = 1.9395276, step = 3400 (2.737 sec)\n",
      "INFO:tensorflow:accuracy = 0.46875 (2.737 sec)\n",
      "INFO:tensorflow:global_step/sec: 36.7675\n",
      "INFO:tensorflow:loss = 1.1728095, step = 3500 (2.720 sec)\n",
      "INFO:tensorflow:accuracy = 0.5625 (2.735 sec)\n",
      "INFO:tensorflow:global_step/sec: 35.8493\n",
      "INFO:tensorflow:loss = 1.3399034, step = 3600 (2.789 sec)\n",
      "INFO:tensorflow:accuracy = 0.5 (2.789 sec)\n",
      "INFO:tensorflow:global_step/sec: 34.0441\n",
      "INFO:tensorflow:loss = 1.5210885, step = 3700 (2.937 sec)\n",
      "INFO:tensorflow:accuracy = 0.5 (2.922 sec)\n",
      "INFO:tensorflow:global_step/sec: 32.6823\n",
      "INFO:tensorflow:loss = 1.4676447, step = 3800 (3.060 sec)\n",
      "INFO:tensorflow:accuracy = 0.46875 (3.075 sec)\n",
      "INFO:tensorflow:global_step/sec: 31.5523\n",
      "INFO:tensorflow:loss = 1.6502252, step = 3900 (3.169 sec)\n",
      "INFO:tensorflow:accuracy = 0.5 (3.154 sec)\n",
      "INFO:tensorflow:global_step/sec: 34.1363\n",
      "INFO:tensorflow:loss = 1.5589023, step = 4000 (2.929 sec)\n",
      "INFO:tensorflow:accuracy = 0.46875 (2.929 sec)\n",
      "INFO:tensorflow:global_step/sec: 35.0569\n",
      "INFO:tensorflow:loss = 1.1725559, step = 4100 (2.853 sec)\n",
      "INFO:tensorflow:accuracy = 0.71875 (2.868 sec)\n",
      "INFO:tensorflow:global_step/sec: 34.9787\n",
      "INFO:tensorflow:loss = 1.6962311, step = 4200 (2.859 sec)\n",
      "INFO:tensorflow:accuracy = 0.34375 (2.843 sec)\n",
      "INFO:tensorflow:global_step/sec: 35.6419\n",
      "INFO:tensorflow:loss = 1.2714555, step = 4300 (2.821 sec)\n",
      "INFO:tensorflow:accuracy = 0.5625 (2.821 sec)\n",
      "INFO:tensorflow:global_step/sec: 33.0869\n",
      "INFO:tensorflow:loss = 0.95222837, step = 4400 (3.007 sec)\n",
      "INFO:tensorflow:accuracy = 0.6875 (3.022 sec)\n",
      "INFO:tensorflow:global_step/sec: 34.6018\n",
      "INFO:tensorflow:loss = 1.2433475, step = 4500 (2.906 sec)\n",
      "INFO:tensorflow:accuracy = 0.59375 (2.890 sec)\n",
      "INFO:tensorflow:global_step/sec: 34.8531\n",
      "INFO:tensorflow:loss = 1.0254864, step = 4600 (2.853 sec)\n",
      "INFO:tensorflow:accuracy = 0.625 (2.853 sec)\n",
      "INFO:tensorflow:global_step/sec: 34.5893\n",
      "INFO:tensorflow:loss = 0.8342484, step = 4700 (2.891 sec)\n",
      "INFO:tensorflow:accuracy = 0.71875 (2.891 sec)\n",
      "INFO:tensorflow:global_step/sec: 34.4117\n",
      "INFO:tensorflow:loss = 0.7648108, step = 4800 (2.906 sec)\n",
      "INFO:tensorflow:accuracy = 0.75 (2.906 sec)\n",
      "INFO:tensorflow:global_step/sec: 34.3994\n",
      "INFO:tensorflow:loss = 1.2422521, step = 4900 (2.907 sec)\n",
      "INFO:tensorflow:accuracy = 0.5625 (2.907 sec)\n",
      "INFO:tensorflow:global_step/sec: 34.8421\n",
      "INFO:tensorflow:loss = 1.071286, step = 5000 (2.870 sec)\n",
      "INFO:tensorflow:accuracy = 0.59375 (2.870 sec)\n",
      "INFO:tensorflow:global_step/sec: 35.9261\n",
      "INFO:tensorflow:loss = 0.9543378, step = 5100 (2.783 sec)\n",
      "INFO:tensorflow:accuracy = 0.71875 (2.783 sec)\n",
      "INFO:tensorflow:global_step/sec: 36.6506\n",
      "INFO:tensorflow:loss = 1.3355398, step = 5200 (2.728 sec)\n",
      "INFO:tensorflow:accuracy = 0.53125 (2.744 sec)\n",
      "INFO:tensorflow:global_step/sec: 36.3313\n",
      "INFO:tensorflow:loss = 1.1324289, step = 5300 (2.752 sec)\n",
      "INFO:tensorflow:accuracy = 0.4375 (2.752 sec)\n",
      "INFO:tensorflow:global_step/sec: 34.7899\n",
      "INFO:tensorflow:loss = 0.851465, step = 5400 (2.874 sec)\n",
      "INFO:tensorflow:accuracy = 0.78125 (2.859 sec)\n",
      "INFO:tensorflow:global_step/sec: 34.4068\n",
      "INFO:tensorflow:loss = 1.5587785, step = 5500 (2.906 sec)\n",
      "INFO:tensorflow:accuracy = 0.46875 (2.922 sec)\n",
      "INFO:tensorflow:global_step/sec: 33.6992\n",
      "INFO:tensorflow:loss = 0.8045641, step = 5600 (2.967 sec)\n",
      "INFO:tensorflow:accuracy = 0.6875 (2.952 sec)\n",
      "INFO:tensorflow:global_step/sec: 33.965\n",
      "INFO:tensorflow:loss = 1.0552111, step = 5700 (2.944 sec)\n",
      "INFO:tensorflow:accuracy = 0.6875 (2.944 sec)\n",
      "INFO:tensorflow:global_step/sec: 34.2193\n",
      "INFO:tensorflow:loss = 1.0451174, step = 5800 (2.922 sec)\n",
      "INFO:tensorflow:accuracy = 0.75 (2.922 sec)\n",
      "INFO:tensorflow:global_step/sec: 30.5334\n",
      "INFO:tensorflow:loss = 0.85441864, step = 5900 (3.275 sec)\n",
      "INFO:tensorflow:accuracy = 0.75 (3.295 sec)\n",
      "INFO:tensorflow:global_step/sec: 34.1722\n",
      "INFO:tensorflow:loss = 0.71811265, step = 6000 (2.926 sec)\n",
      "INFO:tensorflow:accuracy = 0.75 (2.906 sec)\n",
      "INFO:tensorflow:global_step/sec: 33.2371\n",
      "INFO:tensorflow:loss = 1.6024714, step = 6100 (3.040 sec)\n",
      "INFO:tensorflow:accuracy = 0.40625 (3.056 sec)\n",
      "INFO:tensorflow:global_step/sec: 32.9241\n",
      "INFO:tensorflow:loss = 0.68524784, step = 6200 (3.006 sec)\n",
      "INFO:tensorflow:accuracy = 0.75 (2.990 sec)\n",
      "INFO:tensorflow:global_step/sec: 35.1718\n",
      "INFO:tensorflow:loss = 0.44941682, step = 6300 (2.843 sec)\n",
      "INFO:tensorflow:accuracy = 0.8125 (2.843 sec)\n",
      "INFO:tensorflow:global_step/sec: 36.7328\n",
      "INFO:tensorflow:loss = 0.42588514, step = 6400 (2.722 sec)\n",
      "INFO:tensorflow:accuracy = 0.84375 (2.722 sec)\n",
      "INFO:tensorflow:global_step/sec: 36.7575\n",
      "INFO:tensorflow:loss = 0.45858726, step = 6500 (2.736 sec)\n",
      "INFO:tensorflow:accuracy = 0.90625 (2.736 sec)\n",
      "INFO:tensorflow:global_step/sec: 36.5412\n",
      "INFO:tensorflow:loss = 0.763198, step = 6600 (2.721 sec)\n",
      "INFO:tensorflow:accuracy = 0.65625 (2.737 sec)\n",
      "INFO:tensorflow:global_step/sec: 33.791\n",
      "INFO:tensorflow:loss = 2.1453755, step = 6700 (2.959 sec)\n",
      "INFO:tensorflow:accuracy = 0.34375 (2.944 sec)\n",
      "INFO:tensorflow:global_step/sec: 32.5837\n",
      "INFO:tensorflow:loss = 0.9778922, step = 6800 (3.069 sec)\n",
      "INFO:tensorflow:accuracy = 0.6875 (3.069 sec)\n",
      "INFO:tensorflow:global_step/sec: 28.0408\n",
      "INFO:tensorflow:loss = 0.737844, step = 6900 (3.584 sec)\n",
      "INFO:tensorflow:accuracy = 0.6875 (3.587 sec)\n",
      "INFO:tensorflow:global_step/sec: 31.6662\n",
      "INFO:tensorflow:loss = 0.45940292, step = 7000 (3.140 sec)\n",
      "INFO:tensorflow:accuracy = 0.875 (3.152 sec)\n",
      "INFO:tensorflow:global_step/sec: 32.5172\n",
      "INFO:tensorflow:loss = 0.56166005, step = 7100 (3.075 sec)\n",
      "INFO:tensorflow:accuracy = 0.90625 (3.075 sec)\n",
      "INFO:tensorflow:global_step/sec: 33.0915\n",
      "INFO:tensorflow:loss = 1.1398807, step = 7200 (3.022 sec)\n",
      "INFO:tensorflow:accuracy = 0.6875 (3.006 sec)\n",
      "INFO:tensorflow:global_step/sec: 33.6917\n",
      "INFO:tensorflow:loss = 1.4984584, step = 7300 (2.968 sec)\n",
      "INFO:tensorflow:accuracy = 0.6875 (2.968 sec)\n",
      "INFO:tensorflow:global_step/sec: 34.7558\n",
      "INFO:tensorflow:loss = 0.6126008, step = 7400 (2.877 sec)\n",
      "INFO:tensorflow:accuracy = 0.78125 (2.877 sec)\n",
      "INFO:tensorflow:global_step/sec: 36.0683\n",
      "INFO:tensorflow:loss = 0.4061339, step = 7500 (2.773 sec)\n",
      "INFO:tensorflow:accuracy = 0.90625 (2.773 sec)\n",
      "INFO:tensorflow:Saving checkpoints for 7600 into ./pixel_classification/supervised_uniform_conv\\model.ckpt.\n",
      "INFO:tensorflow:Loss for final step: 0.6908253.\n"
     ]
    },
    {
     "data": {
      "text/plain": [
       "<tensorflow.python.estimator.estimator.Estimator at 0x1a67d022be0>"
      ]
     },
     "execution_count": 6,
     "metadata": {},
     "output_type": "execute_result"
    }
   ],
   "source": [
    "estimator.train(input_fn=train_in_fn, steps=STEPS)"
   ]
  },
  {
   "cell_type": "code",
   "execution_count": 7,
   "metadata": {},
   "outputs": [
    {
     "name": "stdout",
     "output_type": "stream",
     "text": [
      "INFO:tensorflow:Calling model_fn.\n",
      "INFO:tensorflow:Done calling model_fn.\n",
      "INFO:tensorflow:Starting evaluation at 2018-08-05-10:51:31\n",
      "INFO:tensorflow:Graph was finalized.\n",
      "INFO:tensorflow:Restoring parameters from ./pixel_classification/supervised_uniform_conv\\model.ckpt-7600\n",
      "INFO:tensorflow:Running local_init_op.\n",
      "INFO:tensorflow:Done running local_init_op.\n",
      "INFO:tensorflow:accuracy = 0.78125\n",
      "INFO:tensorflow:Finished evaluation at 2018-08-05-10:51:42\n",
      "INFO:tensorflow:Saving dict for global step 7600: global_step = 7600, loss = 0.5717341\n"
     ]
    },
    {
     "data": {
      "text/plain": [
       "{'global_step': 7600, 'loss': 0.5717341}"
      ]
     },
     "execution_count": 7,
     "metadata": {},
     "output_type": "execute_result"
    }
   ],
   "source": [
    "estimator.evaluate(input_fn=lambda: classifier_input_fn(X_train,\n",
    "                                                        Y_train,\n",
    "                                                        32, is_train=False))"
   ]
  },
  {
   "cell_type": "code",
   "execution_count": 8,
   "metadata": {},
   "outputs": [
    {
     "name": "stdout",
     "output_type": "stream",
     "text": [
      "INFO:tensorflow:Calling model_fn.\n",
      "INFO:tensorflow:Done calling model_fn.\n",
      "INFO:tensorflow:Starting evaluation at 2018-08-05-10:51:51\n",
      "INFO:tensorflow:Graph was finalized.\n",
      "INFO:tensorflow:Restoring parameters from ./pixel_classification/supervised_uniform_conv\\model.ckpt-7600\n",
      "INFO:tensorflow:Running local_init_op.\n",
      "INFO:tensorflow:Done running local_init_op.\n",
      "INFO:tensorflow:accuracy = 0.40625\n",
      "INFO:tensorflow:Finished evaluation at 2018-08-05-10:51:55\n",
      "INFO:tensorflow:Saving dict for global step 7600: global_step = 7600, loss = 0.9549831\n"
     ]
    },
    {
     "data": {
      "text/plain": [
       "{'global_step': 7600, 'loss': 0.9549831}"
      ]
     },
     "execution_count": 8,
     "metadata": {},
     "output_type": "execute_result"
    }
   ],
   "source": [
    "estimator.evaluate(input_fn=test_in_fn)"
   ]
  },
  {
   "cell_type": "markdown",
   "metadata": {},
   "source": [
    "## CoordConv over NotSoClever - Uniform Split\n",
    "*Same Architecture*"
   ]
  },
  {
   "cell_type": "code",
   "execution_count": 1,
   "metadata": {},
   "outputs": [],
   "source": [
    "import tensorflow as tf\n",
    "\n",
    "from utils.nsc import NotSoCleverCreator as NSCCreator\n",
    "from models.supervised_coordconv import model_fn as coordconv_model_fn\n",
    "from nn.pipeline import classifier_input_fn"
   ]
  },
  {
   "cell_type": "code",
   "execution_count": 2,
   "metadata": {},
   "outputs": [
    {
     "data": {
      "text/plain": [
       "((2436, 2), (813, 2), (2436, 64, 64, 1), (813, 64, 64, 1))"
      ]
     },
     "execution_count": 2,
     "metadata": {},
     "output_type": "execute_result"
    }
   ],
   "source": [
    "nsc = NSCCreator()\n",
    "\n",
    "X_train, X_test = nsc.uniform_split()\n",
    "Y_train = nsc.one_hot_coords(nsc.canvas_size, X_train)\n",
    "Y_test = nsc.one_hot_coords(nsc.canvas_size, X_test)\n",
    "\n",
    "X_train.shape, X_test.shape, Y_train.shape, Y_test.shape"
   ]
  },
  {
   "cell_type": "code",
   "execution_count": 3,
   "metadata": {},
   "outputs": [
    {
     "name": "stdout",
     "output_type": "stream",
     "text": [
      "INFO:tensorflow:Using default config.\n",
      "INFO:tensorflow:Using config: {'_keep_checkpoint_max': 5, '_task_type': 'worker', '_train_distribute': None, '_task_id': 0, '_save_checkpoints_secs': 600, '_save_summary_steps': 100, '_cluster_spec': <tensorflow.python.training.server_lib.ClusterSpec object at 0x0000024F62723D68>, '_num_worker_replicas': 1, '_master': '', '_num_ps_replicas': 0, '_keep_checkpoint_every_n_hours': 10000, '_log_step_count_steps': 100, '_save_checkpoints_steps': None, '_session_config': None, '_tf_random_seed': None, '_is_chief': True, '_service': None, '_global_id_in_cluster': 0, '_model_dir': './pixel_classification/supervised_uniform_coord', '_evaluation_master': ''}\n"
     ]
    }
   ],
   "source": [
    "estimator = tf.estimator.Estimator(model_fn=coordconv_model_fn,\n",
    "                                   params={\n",
    "                                       'lr': 1e-2\n",
    "                                   },\n",
    "                                   model_dir='./pixel_classification/supervised_uniform_coord')"
   ]
  },
  {
   "cell_type": "code",
   "execution_count": 4,
   "metadata": {},
   "outputs": [],
   "source": [
    "train_in_fn = lambda: classifier_input_fn(X_train, Y_train, 32)\n",
    "test_in_fn = lambda: classifier_input_fn(X_test, Y_test, 32, is_train=False)"
   ]
  },
  {
   "cell_type": "code",
   "execution_count": 5,
   "metadata": {},
   "outputs": [
    {
     "data": {
      "text/plain": [
       "7600"
      ]
     },
     "execution_count": 5,
     "metadata": {},
     "output_type": "execute_result"
    }
   ],
   "source": [
    "EPOCHS = 100\n",
    "STEPS_PER_EPOCH = X_train.shape[0] // 32\n",
    "STEPS = EPOCHS * STEPS_PER_EPOCH\n",
    "\n",
    "STEPS"
   ]
  },
  {
   "cell_type": "code",
   "execution_count": null,
   "metadata": {},
   "outputs": [
    {
     "name": "stdout",
     "output_type": "stream",
     "text": [
      "INFO:tensorflow:Calling model_fn.\n",
      "INFO:tensorflow:Done calling model_fn.\n",
      "INFO:tensorflow:Create CheckpointSaverHook.\n",
      "INFO:tensorflow:Graph was finalized.\n",
      "INFO:tensorflow:Running local_init_op.\n",
      "INFO:tensorflow:Done running local_init_op.\n",
      "INFO:tensorflow:Saving checkpoints for 1 into ./pixel_classification/supervised_uniform_coord\\model.ckpt.\n",
      "INFO:tensorflow:step = 0, loss = 8.337212\n",
      "INFO:tensorflow:accuracy = 0.0\n",
      "INFO:tensorflow:global_step/sec: 3.41602\n",
      "INFO:tensorflow:step = 100, loss = 7.7774725 (29.291 sec)\n",
      "INFO:tensorflow:accuracy = 0.0 (29.275 sec)\n",
      "INFO:tensorflow:global_step/sec: 3.58353\n",
      "INFO:tensorflow:step = 200, loss = 6.0056696 (27.916 sec)\n",
      "INFO:tensorflow:accuracy = 0.0 (27.917 sec)\n",
      "INFO:tensorflow:global_step/sec: 3.57938\n",
      "INFO:tensorflow:step = 300, loss = 6.148604 (27.914 sec)\n",
      "INFO:tensorflow:accuracy = 0.0 (27.915 sec)\n",
      "INFO:tensorflow:global_step/sec: 3.60666\n",
      "INFO:tensorflow:step = 400, loss = 6.002205 (27.723 sec)\n",
      "INFO:tensorflow:accuracy = 0.0 (27.720 sec)\n",
      "INFO:tensorflow:global_step/sec: 3.5776\n",
      "INFO:tensorflow:step = 500, loss = 6.516039 (27.967 sec)\n",
      "INFO:tensorflow:accuracy = 0.0 (27.967 sec)\n",
      "INFO:tensorflow:global_step/sec: 3.57822\n",
      "INFO:tensorflow:step = 600, loss = 5.5351315 (27.931 sec)\n",
      "INFO:tensorflow:accuracy = 0.0 (27.931 sec)\n",
      "INFO:tensorflow:global_step/sec: 3.60576\n",
      "INFO:tensorflow:step = 700, loss = 5.024356 (27.828 sec)\n",
      "INFO:tensorflow:accuracy = 0.03125 (27.828 sec)\n",
      "INFO:tensorflow:global_step/sec: 3.56843\n",
      "INFO:tensorflow:step = 800, loss = 4.9154143 (27.929 sec)\n",
      "INFO:tensorflow:accuracy = 0.0 (27.929 sec)\n",
      "INFO:tensorflow:global_step/sec: 3.58079\n",
      "INFO:tensorflow:step = 900, loss = 6.105327 (27.927 sec)\n",
      "INFO:tensorflow:accuracy = 0.0 (27.927 sec)\n",
      "INFO:tensorflow:global_step/sec: 3.60765\n",
      "INFO:tensorflow:step = 1000, loss = 4.981456 (27.735 sec)\n",
      "INFO:tensorflow:accuracy = 0.0 (27.735 sec)\n",
      "INFO:tensorflow:global_step/sec: 3.56614\n",
      "INFO:tensorflow:step = 1100, loss = 7.183775 (28.032 sec)\n",
      "INFO:tensorflow:accuracy = 0.0 (28.035 sec)\n",
      "INFO:tensorflow:global_step/sec: 3.5783\n",
      "INFO:tensorflow:step = 1200, loss = 4.9289846 (27.971 sec)\n",
      "INFO:tensorflow:accuracy = 0.03125 (27.969 sec)\n",
      "INFO:tensorflow:global_step/sec: 3.57013\n",
      "INFO:tensorflow:step = 1300, loss = 5.6439867 (27.979 sec)\n",
      "INFO:tensorflow:accuracy = 0.03125 (27.979 sec)\n",
      "INFO:tensorflow:global_step/sec: 3.60779\n",
      "INFO:tensorflow:step = 1400, loss = 5.073251 (27.718 sec)\n",
      "INFO:tensorflow:accuracy = 0.0 (27.718 sec)\n",
      "INFO:tensorflow:global_step/sec: 3.58374\n",
      "INFO:tensorflow:step = 1500, loss = 4.292246 (27.904 sec)\n",
      "INFO:tensorflow:accuracy = 0.0 (27.919 sec)\n",
      "INFO:tensorflow:global_step/sec: 3.58089\n",
      "INFO:tensorflow:step = 1600, loss = 4.779973 (27.926 sec)\n",
      "INFO:tensorflow:accuracy = 0.0 (27.910 sec)\n",
      "INFO:tensorflow:global_step/sec: 3.60958\n",
      "INFO:tensorflow:step = 1700, loss = 4.846997 (27.720 sec)\n",
      "INFO:tensorflow:accuracy = 0.0 (27.720 sec)\n",
      "INFO:tensorflow:global_step/sec: 3.57468\n",
      "INFO:tensorflow:step = 1800, loss = 5.0733805 (27.975 sec)\n",
      "INFO:tensorflow:accuracy = 0.0 (27.975 sec)\n",
      "INFO:tensorflow:global_step/sec: 3.56615\n",
      "INFO:tensorflow:step = 1900, loss = 4.9428277 (28.041 sec)\n",
      "INFO:tensorflow:accuracy = 0.0 (28.041 sec)\n",
      "INFO:tensorflow:global_step/sec: 3.57858\n",
      "INFO:tensorflow:step = 2000, loss = 3.5652518 (27.928 sec)\n",
      "INFO:tensorflow:accuracy = 0.0 (27.928 sec)\n",
      "INFO:tensorflow:global_step/sec: 3.59899\n",
      "INFO:tensorflow:step = 2100, loss = 4.1397123 (27.789 sec)\n",
      "INFO:tensorflow:accuracy = 0.03125 (27.791 sec)\n",
      "INFO:tensorflow:Saving checkpoints for 2134 into ./pixel_classification/supervised_uniform_coord\\model.ckpt.\n",
      "INFO:tensorflow:global_step/sec: 3.12831\n",
      "INFO:tensorflow:step = 2200, loss = 3.5766404 (31.963 sec)\n",
      "INFO:tensorflow:accuracy = 0.0 (31.961 sec)\n",
      "INFO:tensorflow:global_step/sec: 3.5824\n",
      "INFO:tensorflow:step = 2300, loss = 3.3577461 (27.930 sec)\n",
      "INFO:tensorflow:accuracy = 0.15625 (27.930 sec)\n",
      "INFO:tensorflow:global_step/sec: 3.61081\n",
      "INFO:tensorflow:step = 2400, loss = 3.788035 (27.679 sec)\n",
      "INFO:tensorflow:accuracy = 0.0 (27.695 sec)\n",
      "INFO:tensorflow:global_step/sec: 3.58154\n",
      "INFO:tensorflow:step = 2500, loss = 3.906345 (27.921 sec)\n",
      "INFO:tensorflow:accuracy = 0.0 (27.905 sec)\n",
      "INFO:tensorflow:global_step/sec: 3.58388\n",
      "INFO:tensorflow:step = 2600, loss = 3.9991732 (27.950 sec)\n",
      "INFO:tensorflow:accuracy = 0.0 (27.950 sec)\n",
      "INFO:tensorflow:global_step/sec: 3.58215\n",
      "INFO:tensorflow:step = 2700, loss = 2.6168633 (27.869 sec)\n",
      "INFO:tensorflow:accuracy = 0.125 (27.869 sec)\n",
      "INFO:tensorflow:global_step/sec: 3.55431\n",
      "INFO:tensorflow:step = 2800, loss = 4.8908997 (28.153 sec)\n",
      "INFO:tensorflow:accuracy = 0.0 (28.155 sec)\n",
      "INFO:tensorflow:global_step/sec: 3.5764\n",
      "INFO:tensorflow:step = 2900, loss = 2.1932855 (27.959 sec)\n",
      "INFO:tensorflow:accuracy = 0.1875 (27.957 sec)\n",
      "INFO:tensorflow:global_step/sec: 3.54841\n",
      "INFO:tensorflow:step = 3000, loss = 3.3526468 (28.166 sec)\n",
      "INFO:tensorflow:accuracy = 0.09375 (28.166 sec)\n",
      "INFO:tensorflow:global_step/sec: 3.54246\n",
      "INFO:tensorflow:step = 3100, loss = 3.833461 (28.308 sec)\n",
      "INFO:tensorflow:accuracy = 0.0625 (28.308 sec)\n",
      "INFO:tensorflow:global_step/sec: 3.45256\n",
      "INFO:tensorflow:step = 3200, loss = 2.6981692 (28.885 sec)\n",
      "INFO:tensorflow:accuracy = 0.21875 (28.885 sec)\n",
      "INFO:tensorflow:global_step/sec: 3.56652\n",
      "INFO:tensorflow:step = 3300, loss = 2.4156854 (28.054 sec)\n",
      "INFO:tensorflow:accuracy = 0.3125 (28.054 sec)\n",
      "INFO:tensorflow:global_step/sec: 3.60584\n",
      "INFO:tensorflow:step = 3400, loss = 2.4789586 (27.717 sec)\n",
      "INFO:tensorflow:accuracy = 0.3125 (27.717 sec)\n",
      "INFO:tensorflow:global_step/sec: 3.58142\n",
      "INFO:tensorflow:step = 3500, loss = 0.65697885 (27.926 sec)\n",
      "INFO:tensorflow:accuracy = 0.78125 (27.928 sec)\n",
      "INFO:tensorflow:global_step/sec: 3.58235\n",
      "INFO:tensorflow:step = 3600, loss = 2.089714 (28.143 sec)\n",
      "INFO:tensorflow:accuracy = 0.375 (28.141 sec)\n",
      "INFO:tensorflow:global_step/sec: 3.57798\n",
      "INFO:tensorflow:step = 3700, loss = 4.687994 (27.717 sec)\n",
      "INFO:tensorflow:accuracy = 0.03125 (27.717 sec)\n",
      "INFO:tensorflow:global_step/sec: 3.51896\n",
      "INFO:tensorflow:step = 3800, loss = 2.3000693 (28.418 sec)\n",
      "INFO:tensorflow:accuracy = 0.0 (28.418 sec)\n",
      "INFO:tensorflow:global_step/sec: 3.56142\n",
      "INFO:tensorflow:step = 3900, loss = 1.4336262 (28.079 sec)\n",
      "INFO:tensorflow:accuracy = 0.3125 (28.079 sec)\n",
      "INFO:tensorflow:global_step/sec: 3.554\n",
      "INFO:tensorflow:step = 4000, loss = 2.9369934 (28.137 sec)\n",
      "INFO:tensorflow:accuracy = 0.28125 (28.137 sec)\n",
      "INFO:tensorflow:global_step/sec: 3.56715\n",
      "INFO:tensorflow:step = 4100, loss = 3.943876 (28.187 sec)\n",
      "INFO:tensorflow:accuracy = 0.0 (28.203 sec)\n",
      "INFO:tensorflow:global_step/sec: 3.51705\n",
      "INFO:tensorflow:step = 4200, loss = 0.010305532 (28.284 sec)\n",
      "INFO:tensorflow:accuracy = 1.0 (28.269 sec)\n",
      "INFO:tensorflow:Saving checkpoints for 4259 into ./pixel_classification/supervised_uniform_coord\\model.ckpt.\n",
      "INFO:tensorflow:global_step/sec: 3.17679\n",
      "INFO:tensorflow:step = 4300, loss = 0.003750733 (31.478 sec)\n",
      "INFO:tensorflow:accuracy = 1.0 (31.479 sec)\n",
      "INFO:tensorflow:global_step/sec: 3.61045\n",
      "INFO:tensorflow:step = 4400, loss = 0.0016167609 (27.693 sec)\n",
      "INFO:tensorflow:accuracy = 1.0 (27.692 sec)\n",
      "INFO:tensorflow:global_step/sec: 3.57938\n",
      "INFO:tensorflow:step = 4500, loss = 0.0011663219 (27.938 sec)\n",
      "INFO:tensorflow:accuracy = 1.0 (27.938 sec)\n",
      "INFO:tensorflow:global_step/sec: 3.58055\n",
      "INFO:tensorflow:step = 4600, loss = 0.00091003877 (27.979 sec)\n",
      "INFO:tensorflow:accuracy = 1.0 (27.981 sec)\n",
      "INFO:tensorflow:global_step/sec: 3.60599\n",
      "INFO:tensorflow:step = 4700, loss = 0.000742465 (27.682 sec)\n",
      "INFO:tensorflow:accuracy = 1.0 (27.696 sec)\n",
      "INFO:tensorflow:global_step/sec: 3.58007\n",
      "INFO:tensorflow:step = 4800, loss = 0.00058044377 (27.948 sec)\n",
      "INFO:tensorflow:accuracy = 1.0 (27.932 sec)\n",
      "INFO:tensorflow:global_step/sec: 3.58012\n",
      "INFO:tensorflow:step = 4900, loss = 0.00047553543 (27.916 sec)\n",
      "INFO:tensorflow:accuracy = 1.0 (27.916 sec)\n",
      "INFO:tensorflow:global_step/sec: 3.56538\n",
      "INFO:tensorflow:step = 5000, loss = 0.0004480104 (28.048 sec)\n",
      "INFO:tensorflow:accuracy = 1.0 (28.063 sec)\n",
      "INFO:tensorflow:global_step/sec: 3.60114\n",
      "INFO:tensorflow:step = 5100, loss = 0.00035293118 (27.816 sec)\n",
      "INFO:tensorflow:accuracy = 1.0 (27.800 sec)\n",
      "INFO:tensorflow:global_step/sec: 3.57458\n",
      "INFO:tensorflow:step = 5200, loss = 0.00031540781 (27.933 sec)\n",
      "INFO:tensorflow:accuracy = 1.0 (27.934 sec)\n",
      "INFO:tensorflow:global_step/sec: 3.57091\n",
      "INFO:tensorflow:step = 5300, loss = 0.00028976315 (28.000 sec)\n",
      "INFO:tensorflow:accuracy = 1.0 (27.998 sec)\n",
      "INFO:tensorflow:global_step/sec: 3.60608\n",
      "INFO:tensorflow:step = 5400, loss = 0.0002483044 (27.731 sec)\n",
      "INFO:tensorflow:accuracy = 1.0 (27.731 sec)\n",
      "INFO:tensorflow:global_step/sec: 3.58232\n",
      "INFO:tensorflow:step = 5500, loss = 0.0002211646 (27.930 sec)\n",
      "INFO:tensorflow:accuracy = 1.0 (27.930 sec)\n",
      "INFO:tensorflow:global_step/sec: 3.57671\n",
      "INFO:tensorflow:step = 5600, loss = 0.000208829 (27.974 sec)\n",
      "INFO:tensorflow:accuracy = 1.0 (27.974 sec)\n",
      "INFO:tensorflow:global_step/sec: 3.607\n",
      "INFO:tensorflow:step = 5700, loss = 0.00018401237 (27.693 sec)\n",
      "INFO:tensorflow:accuracy = 1.0 (27.693 sec)\n",
      "INFO:tensorflow:global_step/sec: 3.57716\n",
      "INFO:tensorflow:step = 5800, loss = 0.00016757558 (27.955 sec)\n",
      "INFO:tensorflow:accuracy = 1.0 (27.955 sec)\n",
      "INFO:tensorflow:global_step/sec: 3.58235\n",
      "INFO:tensorflow:step = 5900, loss = 0.00014147279 (27.918 sec)\n",
      "INFO:tensorflow:accuracy = 1.0 (27.918 sec)\n",
      "INFO:tensorflow:global_step/sec: 3.5817\n",
      "INFO:tensorflow:step = 6000, loss = 0.00012582492 (27.916 sec)\n",
      "INFO:tensorflow:accuracy = 1.0 (27.916 sec)\n",
      "INFO:tensorflow:global_step/sec: 3.60975\n",
      "INFO:tensorflow:step = 6100, loss = 0.000110497174 (27.750 sec)\n",
      "INFO:tensorflow:accuracy = 1.0 (27.750 sec)\n"
     ]
    }
   ],
   "source": [
    "estimator.train(input_fn=train_in_fn, steps=STEPS)"
   ]
  },
  {
   "cell_type": "code",
   "execution_count": 6,
   "metadata": {},
   "outputs": [
    {
     "name": "stdout",
     "output_type": "stream",
     "text": [
      "INFO:tensorflow:Calling model_fn.\n",
      "INFO:tensorflow:Done calling model_fn.\n",
      "INFO:tensorflow:Starting evaluation at 2018-08-05-11:30:53\n",
      "INFO:tensorflow:Graph was finalized.\n",
      "INFO:tensorflow:Restoring parameters from ./pixel_classification/supervised_uniform_coord\\model.ckpt-4259\n",
      "INFO:tensorflow:Running local_init_op.\n",
      "INFO:tensorflow:Done running local_init_op.\n",
      "INFO:tensorflow:accuracy = 1.0\n",
      "INFO:tensorflow:Finished evaluation at 2018-08-05-11:31:14\n",
      "INFO:tensorflow:Saving dict for global step 4259: global_step = 4259, loss = 0.004766937\n"
     ]
    },
    {
     "data": {
      "text/plain": [
       "{'global_step': 4259, 'loss': 0.004766937}"
      ]
     },
     "execution_count": 6,
     "metadata": {},
     "output_type": "execute_result"
    }
   ],
   "source": [
    "estimator.evaluate(input_fn=lambda: classifier_input_fn(X_train,\n",
    "                                                        Y_train,\n",
    "                                                        32, is_train=False))"
   ]
  },
  {
   "cell_type": "code",
   "execution_count": 7,
   "metadata": {},
   "outputs": [
    {
     "name": "stdout",
     "output_type": "stream",
     "text": [
      "INFO:tensorflow:Calling model_fn.\n",
      "INFO:tensorflow:Done calling model_fn.\n",
      "INFO:tensorflow:Starting evaluation at 2018-08-05-11:31:23\n",
      "INFO:tensorflow:Graph was finalized.\n",
      "INFO:tensorflow:Restoring parameters from ./pixel_classification/supervised_uniform_coord\\model.ckpt-4259\n",
      "INFO:tensorflow:Running local_init_op.\n",
      "INFO:tensorflow:Done running local_init_op.\n",
      "INFO:tensorflow:accuracy = 1.0\n",
      "INFO:tensorflow:Finished evaluation at 2018-08-05-11:31:28\n",
      "INFO:tensorflow:Saving dict for global step 4259: global_step = 4259, loss = 0.0046338784\n"
     ]
    },
    {
     "data": {
      "text/plain": [
       "{'global_step': 4259, 'loss': 0.0046338784}"
      ]
     },
     "execution_count": 7,
     "metadata": {},
     "output_type": "execute_result"
    }
   ],
   "source": [
    "estimator.evaluate(input_fn=test_in_fn)"
   ]
  }
 ],
 "metadata": {
  "kernelspec": {
   "display_name": "Python 3",
   "language": "python",
   "name": "python3"
  },
  "language_info": {
   "codemirror_mode": {
    "name": "ipython",
    "version": 3
   },
   "file_extension": ".py",
   "mimetype": "text/x-python",
   "name": "python",
   "nbconvert_exporter": "python",
   "pygments_lexer": "ipython3",
   "version": "3.5.1"
  }
 },
 "nbformat": 4,
 "nbformat_minor": 2
}
